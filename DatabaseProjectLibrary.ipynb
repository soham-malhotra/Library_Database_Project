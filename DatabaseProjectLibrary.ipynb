{
  "nbformat": 4,
  "nbformat_minor": 0,
  "metadata": {
    "colab": {
      "provenance": [],
      "include_colab_link": true
    },
    "kernelspec": {
      "name": "python3",
      "display_name": "Python 3"
    },
    "language_info": {
      "name": "python"
    }
  },
  "cells": [
    {
      "cell_type": "markdown",
      "metadata": {
        "id": "view-in-github",
        "colab_type": "text"
      },
      "source": [
        "<a href=\"https://colab.research.google.com/github/soham-malhotra/Library_Database_Project/blob/main/DatabaseProjectLibrary.ipynb\" target=\"_parent\"><img src=\"https://colab.research.google.com/assets/colab-badge.svg\" alt=\"Open In Colab\"/></a>"
      ]
    },
    {
      "cell_type": "code",
      "execution_count": null,
      "metadata": {
        "id": "HWDzea9eVnGA"
      },
      "outputs": [],
      "source": []
    },
    {
      "cell_type": "markdown",
      "source": [
        "# Library Management System\n",
        "\n",
        "---\n",
        "\n",
        "### Introduction\n",
        "This project aims to create a database-driven Library Management System (LMS) to manage books, borrowers, and transactions efficiently. The database will allow librarians to track the availability of books, manage borrower details, and log the issuance and return of books.\n",
        "\n",
        "### Goals\n",
        "To develop an easy-to-manage database system to keep track of:\n",
        "\n",
        "*   ***Books*** (title, author, genre, availability, etc.)\n",
        "*   ***Borrowers*** (name, contact info, borrowed books, etc.)\n",
        "*   ***Transactions*** (check-out, return, overdue fines)\n",
        "\n",
        "\n",
        "### What were the key relationships we focused on\n",
        "\n",
        "\n",
        "*  A borrower can borrow multiple books unless he has an overdue book\n",
        "*  A book can be borrowed by one borrower at a time\n",
        "*  If the borrower has the book for more than 15 days, and someone requests it,\n",
        "he must return it\n",
        "*  Each transaction logs a book’s borrowing and returning.\n",
        "\n",
        "---\n",
        "\n",
        "##Imports\n",
        "\n",
        "\n",
        "\n",
        "\n",
        "\n",
        "\n",
        "\n",
        "\n",
        "\n",
        "\n",
        "\n",
        "\n",
        "\n",
        "\n",
        "\n",
        "\n",
        "\n",
        "\n",
        "\n"
      ],
      "metadata": {
        "id": "XBTaYF5kV0Iy"
      }
    },
    {
      "cell_type": "code",
      "source": [
        "# for the database\n",
        "import pickle as pkl\n",
        "import os\n",
        "import polars as pl\n",
        "\n",
        "#for the interactivity\n",
        "import ipywidgets as widgets\n",
        "from IPython.display import display\n",
        "\n",
        "#for sanity checks of book info\n",
        "import re"
      ],
      "metadata": {
        "id": "BAr4w9znqCoR"
      },
      "execution_count": null,
      "outputs": []
    },
    {
      "cell_type": "markdown",
      "source": [
        "We add the necessary imports to create the database, for which we use polars and this database is then serialized and stored/accessed using pickle\n"
      ],
      "metadata": {
        "id": "Rc4OQS3vqHNM"
      }
    },
    {
      "cell_type": "code",
      "source": [
        "# Define the Book class\n",
        "class Book:\n",
        "    # initialise Book with all necessary components\n",
        "    def __init__(self, title, author, isbn):\n",
        "        self.title = title\n",
        "        self.author = author\n",
        "        self.isbn = isbn\n",
        "\n",
        "    # print Book info (e.g. Harry Potter The Goblet of Fire by JK Rowling, ISBN: 0-7475-5079-4)\n",
        "    def __repr__(self):\n",
        "      return f\"{self.title} by {self.author}, ISBN : {self.isbn}\"\n",
        "\n",
        "class Borrower:\n",
        "    #initialise Borrower with all necessary components\n",
        "    def __init__(self, userID, borrowed_books, email):\n",
        "      self.userID = userID\n",
        "      self.borrowed_books = borrowed_books\n",
        "      self.email = email\n",
        "\n",
        "    #print user info\n",
        "    def __repr__(self):\n",
        "      return f\"User : {self.userID} Contact Information: {self.email}\\n Borrowed Books : {self.borrowed_books}\"\n"
      ],
      "metadata": {
        "id": "88l1mMIeq2xI"
      },
      "execution_count": null,
      "outputs": []
    },
    {
      "cell_type": "markdown",
      "source": [
        "Now we have defined the Book class, Borrower class with all their required components. Nowe we can create the Library class which is the main component of the project, with functions on database manipulation and usage using these classes\n"
      ],
      "metadata": {
        "id": "msqDEPdE1pjG"
      }
    },
    {
      "cell_type": "code",
      "source": [
        "\n",
        "class Library:\n",
        "    #initialise all necessary components\n",
        "    def __init__(self, filename_books='library_books.pkl', filename_users='library_users.pkl'):\n",
        "        self.filename_books = filename_books\n",
        "        self.filename_users = filename_users\n",
        "        self.books = self.load_database(filename_books) # Map[Books, Int] : The book mapped to quantity in library\n",
        "        self.users = self.load_database(filename_users) # Map[String, Borrower]\n",
        "\n",
        "    # Load books from file\n",
        "    def load_database(self, filename):\n",
        "        if os.path.exists(filename):\n",
        "            with open(filename, 'rb') as file:\n",
        "                return pickle.load(file)\n",
        "        else:\n",
        "            return {}\n",
        "\n",
        "    # Get all books in database\n",
        "    def view_all(self):\n",
        "      if not self.books:\n",
        "        print(f\"ANARCHYYYY\")\n",
        "      else:\n",
        "        for book, quantity in self.books.items():\n",
        "          print(book, \"\\n\", f\"Quantity: {quantity}\\n\")\n",
        "          print(' '*10 + '*'*20 + ' '*10, \"\\n\") # empty line\n",
        "\n",
        "    # Creates a user\n",
        "    def create_user(self):\n",
        "      userID = input(\"Please enter a userID: \")\n",
        "      email = input(\"Please enter your email: \")\n",
        "      return Borrower(userID,[],email)\n",
        "\n",
        "\n",
        "    # returns user or creates it if not there\n",
        "    def get_user(self, borrower_name):\n",
        "      if borrower_name in self.users:\n",
        "        return self.users[borrower_name]\n",
        "      else:\n",
        "        borrower = self.create_user()\n",
        "        self.users[borrower_name] = borrower\n",
        "        self.update_database(\"users\")\n",
        "        return borrower\n",
        "\n",
        "\n",
        "     # updated database, option is either \"books\" or \"users\"\n",
        "    def update_database(self, option):\n",
        "      if option == \"books\":\n",
        "        with open(self.filename_books, 'wb') as file:\n",
        "            pickle.dump(self.books, file)\n",
        "      elif option == \"users\":\n",
        "        with open(self.filename_users, 'wb') as file2:\n",
        "            pickle.dump(self.users,file2)\n",
        "\n",
        "\n",
        "     # check if book exists / if its in stock\n",
        "    def book_exists(self, book_title):\n",
        "     # Check if any book in self.books has a title that matches book_title\n",
        "      for book in self.books.keys():\n",
        "          if book.title == book_title and self.books[book] != 0:\n",
        "            return True\n",
        "      return False\n",
        "\n",
        "\n",
        "    # checks if string has special char or num\n",
        "    def contains_special_chars_or_numbers(self, string):\n",
        "      pattern = r'[^a-zA-Z]'\n",
        "      return bool(re.search(pattern, string))\n",
        "\n",
        "    # check if isbn is valid\n",
        "    def valid_isbn(self,isbn):\n",
        "      return all(c.isdigit() or c == 'X' for c in isbn)\n",
        "\n",
        "\n",
        "     # Add a book (in case of donation or return for example)\n",
        "    def add_book(self, borrower_name, book_title, book_author, book_isbn):\n",
        "      #sanity check\n",
        "      if(self.contains_special_chars_or_numbers(book_author) or not self.valid_isbn(book_isbn)):\n",
        "        print(f\"aborted as incorrect data format, please check correct ISBN10 or author name\")\n",
        "        return\n",
        "      #check it exists\n",
        "      book = Book(book_title, book_author, book_isbn)\n",
        "      if self.book_exists(book_title):\n",
        "        print(self.books)\n",
        "        print(self.books[book])\n",
        "        self.books[book] += 1\n",
        "        borrower = self.get_user(borrower_name)\n",
        "        borrower.borrowed_books.remove(book)\n",
        "        print(f\"Thank you for returning the book!\\n\")\n",
        "      else:\n",
        "        self.books[book] = 1\n",
        "        print(f\"Thank you for the donation !\\n\")\n",
        "      self.update_database(\"books\")\n",
        "\n",
        "    #get book from database\n",
        "    def get_book(self, book_title):\n",
        "      for book in self.books:\n",
        "        if book_title == book.title and self.books[book] != 0:\n",
        "          print(f\"You're in luck, we have {self.books[book]} of these in stock !\")\n",
        "          return book\n",
        "      print(\"HAHAHAH boo hoo \")\n",
        "      return\n",
        "\n",
        "    # borrow book from library\n",
        "    def borrow_book(self, borrower_name, book_title):\n",
        "      if self.book_exists(book_title):\n",
        "        book = self.get_book(book_title)\n",
        "        borrower = self.get_user(borrower_name)\n",
        "        if(not borrower.borrowed_books.contains(book)):\n",
        "          borrower.borrowed_books.append(book)\n",
        "          self.books[book] -= 1\n",
        "          self.update_database(\"books\")\n",
        "      else:\n",
        "        print(f\"either we dont have the book, or you already have it....\\n\")\n",
        "\n",
        "\n"
      ],
      "metadata": {
        "id": "5wFs7Vgj5gnJ"
      },
      "execution_count": null,
      "outputs": []
    },
    {
      "cell_type": "markdown",
      "source": [
        "Now that the library class is done, and we have all the necessary functions to manipulate the database, we create an interactive interface for the user to view, ask and update with the library"
      ],
      "metadata": {
        "id": "nwHPpUdDGhfN"
      }
    },
    {
      "cell_type": "code",
      "source": [
        "# Instantiate the Library and more imports\n",
        "library = Library()\n",
        "\n",
        "# Widgets for adding a book\n",
        "library_user_input = widgets.Text(placeholder='UserID', description='Library UserID:')\n",
        "title_input = widgets.Text(placeholder='Book title', description='Title:')\n",
        "author_input = widgets.Text(placeholder='Author name', description='Author:')\n",
        "isbn_input = widgets.Text(placeholder='ISBN', description='ISBN:')\n",
        "add_button = widgets.Button(description=\"Add Book\")\n",
        "\n",
        "\n",
        "# Widgets for searching a book\n",
        "search_criteria = widgets.Dropdown(\n",
        "    options=['Title', 'ISBN'],\n",
        "    value='Title',\n",
        "    description='Search by:'\n",
        ")  # Added this line\n",
        "search_input = widgets.Text(placeholder='value', description='Search :')\n",
        "search_button = widgets.Button(description=\"Search Book\")\n",
        "\n",
        "# Widgets for viewing all books\n",
        "view_button = widgets.Button(description=\"View All Books\")\n",
        "\n",
        "# Display output\n",
        "output = widgets.Output()\n",
        "\n",
        "# Function to add a book when the button is clicked\n",
        "def on_search_button_clicked(b):\n",
        "    with output:\n",
        "        output.clear_output()\n",
        "        if search_criteria.value == 'Title':\n",
        "            library.get_book(search_input.value,)\n",
        "        elif search_criteria.value == 'ISBN':\n",
        "            library.get_book_by_isbn(search_input.value)\n",
        "\n",
        "\n",
        "# Function to view all books\n",
        "def on_view_button_clicked(b):\n",
        "    with output:\n",
        "        output.clear_output()\n",
        "        library.view_all()\n",
        "\n",
        "# Bind the buttons to their functions\n",
        "add_button.on_click(on_add_button_clicked)\n",
        "search_button.on_click(on_search_button_clicked)\n",
        "view_button.on_click(on_view_button_clicked)\n",
        "\n",
        "# Layout for adding a book\n",
        "add_book_box = widgets.VBox([title_input, author_input, isbn_input, add_button])\n",
        "search_book_box = widgets.HBox([search_criteria, search_input, search_button])\n",
        "view_books_box = widgets.HBox([view_button])\n",
        "\n",
        "# Display the interactive sections\n",
        "display(add_book_box, search_book_box, view_books_box, output)"
      ],
      "metadata": {
        "colab": {
          "base_uri": "https://localhost:8080/",
          "height": 211
        },
        "id": "Y0HwnVfpG5lk",
        "outputId": "3cb97d3a-81f2-49d8-f160-d68a77ec7080"
      },
      "execution_count": null,
      "outputs": [
        {
          "output_type": "error",
          "ename": "NameError",
          "evalue": "name 'on_add_button_clicked' is not defined",
          "traceback": [
            "\u001b[0;31m---------------------------------------------------------------------------\u001b[0m",
            "\u001b[0;31mNameError\u001b[0m                                 Traceback (most recent call last)",
            "\u001b[0;32m<ipython-input-7-d919938f727d>\u001b[0m in \u001b[0;36m<cell line: 44>\u001b[0;34m()\u001b[0m\n\u001b[1;32m     42\u001b[0m \u001b[0;34m\u001b[0m\u001b[0m\n\u001b[1;32m     43\u001b[0m \u001b[0;31m# Bind the buttons to their functions\u001b[0m\u001b[0;34m\u001b[0m\u001b[0;34m\u001b[0m\u001b[0m\n\u001b[0;32m---> 44\u001b[0;31m \u001b[0madd_button\u001b[0m\u001b[0;34m.\u001b[0m\u001b[0mon_click\u001b[0m\u001b[0;34m(\u001b[0m\u001b[0mon_add_button_clicked\u001b[0m\u001b[0;34m)\u001b[0m\u001b[0;34m\u001b[0m\u001b[0;34m\u001b[0m\u001b[0m\n\u001b[0m\u001b[1;32m     45\u001b[0m \u001b[0msearch_button\u001b[0m\u001b[0;34m.\u001b[0m\u001b[0mon_click\u001b[0m\u001b[0;34m(\u001b[0m\u001b[0mon_search_button_clicked\u001b[0m\u001b[0;34m)\u001b[0m\u001b[0;34m\u001b[0m\u001b[0;34m\u001b[0m\u001b[0m\n\u001b[1;32m     46\u001b[0m \u001b[0mview_button\u001b[0m\u001b[0;34m.\u001b[0m\u001b[0mon_click\u001b[0m\u001b[0;34m(\u001b[0m\u001b[0mon_view_button_clicked\u001b[0m\u001b[0;34m)\u001b[0m\u001b[0;34m\u001b[0m\u001b[0;34m\u001b[0m\u001b[0m\n",
            "\u001b[0;31mNameError\u001b[0m: name 'on_add_button_clicked' is not defined"
          ]
        }
      ]
    }
  ]
}