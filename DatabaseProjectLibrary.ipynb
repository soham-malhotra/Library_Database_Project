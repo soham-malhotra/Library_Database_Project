{
  "cells": [
    {
      "cell_type": "markdown",
      "metadata": {
        "id": "view-in-github",
        "colab_type": "text"
      },
      "source": [
        "<a href=\"https://colab.research.google.com/github/soham-malhotra/Library_Database_Project/blob/main/DatabaseProjectLibrary.ipynb\" target=\"_parent\"><img src=\"https://colab.research.google.com/assets/colab-badge.svg\" alt=\"Open In Colab\"/></a>"
      ]
    },
    {
      "cell_type": "markdown",
      "metadata": {
        "id": "XBTaYF5kV0Iy"
      },
      "source": [
        "# Library Management System\n",
        "\n",
        "---\n",
        "\n",
        "### Introduction\n",
        "This project aims to create a database-driven Library Management System (LMS) to manage books, borrowers, and transactions efficiently. The database will allow librarians to track the availability of books, manage borrower details, and log the issuance and return of books.\n",
        "\n",
        "### Goals\n",
        "To develop an easy-to-manage database system to keep track of:\n",
        "\n",
        "*   ***Books*** (title, author, genre, availability, etc.)\n",
        "*   ***Borrowers*** (name, contact info, borrowed books, etc.)\n",
        "*   ***Transactions*** (check-out, return, overdue fines)\n",
        "\n",
        "\n",
        "### What were the key relationships we focused on\n",
        "\n",
        "\n",
        "*  A borrower can borrow multiple books unless he has an overdue book\n",
        "*  A book can be borrowed by one borrower at a time\n",
        "*  If the borrower has the book for more than 15 days, and someone requests it,\n",
        "he must return it\n",
        "*  Each transaction logs a book’s borrowing and returning.\n",
        "\n",
        "---\n",
        "\n",
        "##Imports\n",
        "\n",
        "\n",
        "\n",
        "\n",
        "\n",
        "\n",
        "\n",
        "\n",
        "\n",
        "\n",
        "\n",
        "\n",
        "\n",
        "\n",
        "\n",
        "\n",
        "\n",
        "\n",
        "\n"
      ]
    },
    {
      "cell_type": "code",
      "execution_count": 130,
      "metadata": {
        "id": "BAr4w9znqCoR"
      },
      "outputs": [],
      "source": [
        "# for the creation and operation of the database\n",
        "import os\n",
        "import polars as pl\n",
        "\n",
        "#for the interactivity\n",
        "import ipywidgets as widgets\n",
        "from IPython.display import display\n",
        "\n"
      ]
    },
    {
      "cell_type": "markdown",
      "metadata": {
        "id": "Rc4OQS3vqHNM"
      },
      "source": [
        "  We add the necessary imports to create the database, for which we use polars and this database is then serialized and stored/accessed using parquet files, When you write a DataFrame to a Parquet file, the data is serialized into a binary format. This means that the information is converted into a compact representation that can be easily written to disk.\n",
        "\n",
        "\n",
        "  Now we will import the initial library database, which we created as a csv file and which will be manipulated using polars\n"
      ]
    },
    {
      "cell_type": "code",
      "execution_count": 131,
      "metadata": {
        "colab": {
          "base_uri": "https://localhost:8080/"
        },
        "id": "gKfBXYgxHq5N",
        "outputId": "937177f2-0137-4c0f-b243-df0c0cca4215"
      },
      "outputs": [
        {
          "output_type": "stream",
          "name": "stdout",
          "text": [
            "shape: (6, 5)\n",
            "┌─────────┬─────────────────────┬───────────────────────┬────────────────┬───────────────────┐\n",
            "│ User ID ┆ Author Name         ┆ Book Title            ┆ ISBN           ┆ Quantity in Stock │\n",
            "│ ---     ┆ ---                 ┆ ---                   ┆ ---            ┆ ---               │\n",
            "│ i64     ┆ str                 ┆ str                   ┆ str            ┆ i64               │\n",
            "╞═════════╪═════════════════════╪═══════════════════════╪════════════════╪═══════════════════╡\n",
            "│ 1       ┆ George Orwell       ┆ 1984                  ┆ 978-0451524935 ┆ 3                 │\n",
            "│ 2       ┆ J.K. Rowling        ┆ Harry Potter and the  ┆ 978-0439708180 ┆ 5                 │\n",
            "│         ┆                     ┆ Sorcerer'…            ┆                ┆                   │\n",
            "│ 3       ┆ F. Scott Fitzgerald ┆ The Great Gatsby      ┆ 978-0743273565 ┆ 2                 │\n",
            "│ 4       ┆ Harper Lee          ┆ To Kill a Mockingbird ┆ 978-0061120084 ┆ 4                 │\n",
            "│ 5       ┆ J.R.R. Tolkien      ┆ The Hobbit            ┆ 978-0618968633 ┆ 6                 │\n",
            "│ 6       ┆ Mark Twain          ┆ The Adventures of Tom ┆ 978-0486280615 ┆ 7                 │\n",
            "│         ┆                     ┆ Sawyer                ┆                ┆                   │\n",
            "└─────────┴─────────────────────┴───────────────────────┴────────────────┴───────────────────┘\n",
            "shape: (4, 4)\n",
            "┌──────────┬─────────┬───────────────────┬────────────────┐\n",
            "│ username ┆ User ID ┆ email             ┆ Borrowed Books │\n",
            "│ ---      ┆ ---     ┆ ---               ┆ ---            │\n",
            "│ str      ┆ i64     ┆ str               ┆ str            │\n",
            "╞══════════╪═════════╪═══════════════════╪════════════════╡\n",
            "│ user1    ┆ 1       ┆ alice@gmail.com   ┆ None           │\n",
            "│ user2    ┆ 2       ┆ bob@gmail.com     ┆ None           │\n",
            "│ user3    ┆ 3       ┆ charlie@gmail.com ┆ None           │\n",
            "│ user4    ┆ 4       ┆ david@gmail.com   ┆ None           │\n",
            "└──────────┴─────────┴───────────────────┴────────────────┘\n"
          ]
        }
      ],
      "source": [
        "#link to the csv file for the library books\n",
        "url_books = 'https://raw.githubusercontent.com/soham-malhotra/Library_Database_Project/refs/heads/main/library.csv'\n",
        "url_users = 'https://raw.githubusercontent.com/soham-malhotra/Library_Database_Project/refs/heads/main/users.csv'\n",
        "\n",
        "#get the dataframes\n",
        "df_books = pl.read_csv(url_books)\n",
        "df_users = pl.read_csv(url_users)\n",
        "\n",
        "#print the first 4 rows of the books database and the first 2 rows of the users database\n",
        "print(df_books.head(6))\n",
        "print(df_users.head(4))\n"
      ]
    },
    {
      "cell_type": "markdown",
      "metadata": {
        "id": "xwbWa2ITIWR5"
      },
      "source": [
        "As we can see the database is clearly visible and contents clearly displayed. Now that this has been created, we must create Classes to define the system and be able to manipulate it. Note that Polars was used as it is more efficent than pandas, albeit as the database is so small the difference in speed is negligible"
      ]
    },
    {
      "cell_type": "code",
      "execution_count": 132,
      "metadata": {
        "id": "88l1mMIeq2xI"
      },
      "outputs": [],
      "source": [
        "# Define the Book class\n",
        "class Book:\n",
        "    # initialise Book with all necessary components\n",
        "    def __init__(self, title, author, isbn):\n",
        "        self.title = title\n",
        "        self.author = author\n",
        "        self.isbn = isbn\n",
        "\n",
        "    # print Book info (e.g. Harry Potter The Goblet of Fire by JK Rowling, ISBN: 0-7475-5079-4)\n",
        "    def __repr__(self):\n",
        "      return f\"{self.title} by {self.author}, ISBN : {self.isbn}\"\n",
        "\n",
        "class User:\n",
        "\n",
        "    # 5 as there are already 5 users in the database\n",
        "    uID_counter = 10\n",
        "\n",
        "    #initialise User with all necessary components\n",
        "    def __init__(self, username, email):\n",
        "      self.username = username\n",
        "      self.borrowed_books = \"None\"\n",
        "      self.email = email\n",
        "      User.uID_counter += 1\n",
        "      self.userid = User.uID_counter\n",
        "\n",
        "    #print user info\n",
        "    def __repr__(self):\n",
        "      return f\"\\n  Username               :{self.username}\\n  Contact Information    :{self.email}\\n  Borrowed Books         :{self.borrowed_books}\\n\\n\"\n"
      ]
    },
    {
      "cell_type": "markdown",
      "metadata": {
        "id": "msqDEPdE1pjG"
      },
      "source": [
        "Now we have defined the Book class, Borrower class with all their required components. Nowe we can create the Library class which is the main component of the project, with functions on database manipulation and usage using these classes\n"
      ]
    },
    {
      "cell_type": "code",
      "execution_count": 133,
      "metadata": {
        "id": "5wFs7Vgj5gnJ"
      },
      "outputs": [],
      "source": [
        "class Library:\n",
        "    #initialise all necessary components\n",
        "    def __init__(self, filename_books=\"library_books.parquet\", filename_users=\"library_users.parquet\"):\n",
        "        self.filename_books = filename_books\n",
        "        self.filename_users = filename_users\n",
        "        df_books.write_parquet(self.filename_books)\n",
        "        df_users.write_parquet(self.filename_users)\n",
        "        self.books_df = self.load_database(filename_books) # Polars Dataframe\n",
        "        self.users_df = self.load_database(filename_users) # Polars Dataframe\n",
        "\n",
        "\n",
        "    # Load books from file\n",
        "    def load_database(self, filename):\n",
        "       if os.path.exists(filename):\n",
        "          return pl.read_parquet(filename)\n",
        "       else:\n",
        "          return pl.DataFrame()\n",
        "\n",
        "\n",
        "    # updated database, option is either \"books\" or \"users\"\n",
        "    def update_database(self, option):\n",
        "      if option == \"books\":\n",
        "        self.books_df.write_parquet(self.filename_books)\n",
        "      elif option == \"users\":\n",
        "        self.users_df.write_parquet(self.filename_users)\n",
        "      else:\n",
        "        print(f\"Sorry, your Option: {option} is not a valid one\")\n",
        "      print(\"Database update complete\")\n",
        "\n",
        "\n",
        "    # Get all books in database\n",
        "    def view_all(self):\n",
        "      if self.books_df.height == 0:\n",
        "        print(\"ALL THE BOOKS ARE GONE !\")\n",
        "      else:\n",
        "        print(self.books_df)\n",
        "\n",
        "    # Creates a user\n",
        "    def create_user(self, email, username):\n",
        "      filtered_df = self.users_df.filter(pl.col(\"username\") == username)\n",
        "      if filtered_df.height > 0:\n",
        "        print(\"choose another username\")\n",
        "      elif self.users_df.filter(pl.col(\"email\") == email).height > 0 :\n",
        "        actual_username = filtered_df.select(\"username\")\n",
        "        print(f\"this email is already in the system, your username is {actual_username}\")\n",
        "      else:\n",
        "        new_user = User(username, email)\n",
        "        print(\"Created new user:\", new_user)\n",
        "\n",
        "        new_user_data = {\n",
        "           \"username\": [new_user.username],\n",
        "           \"User ID\": [new_user.userid],\n",
        "           \"email\": [new_user.email],\n",
        "           \"Borrowed Books\": [new_user.borrowed_books]\n",
        "        }\n",
        "\n",
        "        # Convert the new user data into a Polars DataFrame\n",
        "        new_user_df = pl.DataFrame(new_user_data)\n",
        "\n",
        "        # Append the new user to the existing DataFrame\n",
        "        self.users_df = pl.concat([self.users_df, new_user_df], how=\"vertical\")\n",
        "        ##print(f\"User '{username}' added successfully.\")\n",
        "        #print(self.users_df)\n",
        "        print(self.users_df)\n",
        "        self.update_database(\"books\")\n",
        "\n",
        "    # returns user or creates it if not there option can only be \"username\" or \"email\" !\n",
        "    def get_user(self, option, value):\n",
        "      if option == \"username\" or option == \"email\":\n",
        "        filtered_df = self.users_df.filter(pl.col(option) == value)\n",
        "        if filtered_df.height > 0:\n",
        "          return filtered_df.select(option)\n",
        "        else:\n",
        "          print(\"a user with these credentials doesnt exist\")\n",
        "          return\n",
        "      else:\n",
        "        print(\"incorrect option provided, need either username or email\")\n",
        "        return\n",
        "\n",
        "     # check if book exists / if its in stock using \"ISBN\" or \"Book Title\"\n",
        "    def book_exists(self, option, value):\n",
        "     if option == \"ISBN\" or option == \"Book Title\":\n",
        "        filtered_df = self.books_df.filter(pl.col(option) == value)\n",
        "        if filtered_df.height == 1 and filtered_df.select(\"Quantity in Stock\").to_numpy()[0][0] != 0:\n",
        "          print(\"Yes the book is available !\")\n",
        "          print(filtered_df)\n",
        "          return True\n",
        "        else:\n",
        "          print(\"Book doesnt exist\")\n",
        "          return False\n",
        "     else:\n",
        "      print(f\"option input {option} not valid\")\n",
        "      return False\n",
        "\n",
        "    # return a database of all the author's works\n",
        "    def get_all_author_books(self, author_name):\n",
        "      filtered_df = self.books_df.filter(pl.col(\"Author Name\") == author_name)\n",
        "      if filtered_df.height > 0:\n",
        "        print(filtered_df)\n",
        "      else:\n",
        "        print(\"Im afraid we dont have this author in our humble library\")\n",
        "\n",
        "\n",
        "    # Add a book (in case of donation or return for example)\n",
        "    def add_book(self, username, book_title, book_author, book_isbn):\n",
        "        # Check if the book already exists\n",
        "        if self.books_df.filter(pl.col(\"ISBN\") == book_isbn).height > 0:\n",
        "            # If it exists, increase the quantity in stock\n",
        "            self.books_df = self.books_df.with_columns(\n",
        "                pl.when(pl.col(\"ISBN\") == book_isbn)\n",
        "                .then(pl.col(\"Quantity in Stock\") + 1)\n",
        "                .otherwise(pl.col(\"Quantity in Stock\"))\n",
        "                .alias(\"Quantity in Stock\")\n",
        "            )\n",
        "            print(\"Return or Donation Successful, Thank you !\")\n",
        "        else:\n",
        "            # If it doesn't exist, create a new book entry\n",
        "            new_book = Book(book_title, book_author, book_isbn)\n",
        "            user_id = user_id = (self.users_df.filter(pl.col(\"username\") == username).select(\"User ID\").item()\n",
        "                      if self.users_df.filter(pl.col(\"username\") == username).height > 0 else print(\"User Doesnt Exist !\"))\n",
        "\n",
        "            new_book_df = pl.DataFrame([{\n",
        "                'User ID' : user_id,\n",
        "                'Author Name': new_book.author,\n",
        "                'Book Title': new_book.title,\n",
        "                'ISBN': new_book.isbn,\n",
        "                'Quantity in Stock': 1\n",
        "            }])\n",
        "            self.books_df = pl.concat([self.books_df, new_book_df], how=\"vertical\")\n",
        "            print(f\"New book '{new_book.title}' by {new_book.author} added to the library.\")\n",
        "            print(\"Thank you for your donation !\")\n",
        "        self.update_database(\"books\")\n",
        "\n",
        "    # borrow book from library\n",
        "    def borrow_book(self, borrower_username, option, value):\n",
        "        filtered_user = self.users_df.filter(pl.col(\"username\") == borrower_username)\n",
        "        if filtered_user.height == 0:\n",
        "            print(\"User does not exist.\")\n",
        "            return\n",
        "\n",
        "        filtered_book = self.books_df.filter(pl.col(option) == value)\n",
        "        if filtered_book.height > 0 and filtered_book.select(\"Quantity in Stock\").to_numpy()[0][0] > 0:\n",
        "            # Update the book quantity\n",
        "            self.books_df = self.books_df.with_columns(\n",
        "                pl.when(pl.col(option) == value)\n",
        "                .then(pl.col(\"Quantity in Stock\") - 1)\n",
        "                .otherwise(pl.col(\"Quantity in Stock\"))\n",
        "                .alias(\"Quantity in Stock\")\n",
        "            )\n",
        "\n",
        "            # Add book to user's borrowed books\n",
        "            user = filtered_user.to_dicts()[0]\n",
        "            user_id = user['User ID']\n",
        "            print(\"user: \", user, \"and the user_id \", user_id)\n",
        "            self.users_df = self.users_df.with_columns(\n",
        "                pl.when(pl.col(\"User ID\") == user_id)\n",
        "                .then(\n",
        "                    pl.when(pl.col(\"Borrowed Books\").str.strip_chars() == \"None\")  # Check if Borrowed Books is empty\n",
        "                    .then(pl.lit(value))  # If empty, set the new book\n",
        "                    .otherwise(pl.col(\"Borrowed Books\") + pl.lit(\", \") + pl.lit(value)))\n",
        "                .otherwise(pl.col(\"Borrowed Books\"))\n",
        "                .alias(\"Borrowed Books\")\n",
        "            )\n",
        "\n",
        "            print(self.users_df)\n",
        "\n",
        "            #    .then(pl.col(\"Borrowed Books\")\n",
        "            #    .otherwise(pl.col(\"Borrowed Books\"))\n",
        "            #    .alias(\"Borrowed Books\"))\n",
        "\n",
        "            print(f\"User '{borrower_username}' has borrowed the book '{value}'.\")\n",
        "            self.update_database(\"books\")\n",
        "            self.update_database(\"users\")\n",
        "        else:\n",
        "            print(\"The book is not available for borrowing.\")\n"
      ]
    },
    {
      "cell_type": "markdown",
      "metadata": {
        "id": "nwHPpUdDGhfN"
      },
      "source": [
        "Now that the library class is done, and we have all the necessary functions to manipulate the database, we create an interactive interface for the user to view, ask and update with the library, but first lets test the functionality\n",
        "\n",
        "---\n",
        "\n",
        "#Testing"
      ]
    },
    {
      "cell_type": "code",
      "source": [
        "# Create a library instance\n",
        "library = Library()"
      ],
      "metadata": {
        "id": "SzX-DS0pa60F"
      },
      "execution_count": 134,
      "outputs": []
    },
    {
      "cell_type": "markdown",
      "source": [
        "Create the library"
      ],
      "metadata": {
        "id": "AyOB5ZxLa7zo"
      }
    },
    {
      "cell_type": "code",
      "source": [
        "#Test create user functionality\n",
        "library.create_user(\"abcd@gmail\",\"abcd\")"
      ],
      "metadata": {
        "colab": {
          "base_uri": "https://localhost:8080/"
        },
        "id": "LEtLcRdZ08wh",
        "outputId": "1cc6a10d-8c74-473e-b37f-e68f42b7cf09"
      },
      "execution_count": 135,
      "outputs": [
        {
          "output_type": "stream",
          "name": "stdout",
          "text": [
            "Created new user: \n",
            "  Username               :abcd\n",
            "  Contact Information    :abcd@gmail\n",
            "  Borrowed Books         :None\n",
            "\n",
            "\n",
            "shape: (6, 4)\n",
            "┌──────────┬─────────┬───────────────────┬────────────────┐\n",
            "│ username ┆ User ID ┆ email             ┆ Borrowed Books │\n",
            "│ ---      ┆ ---     ┆ ---               ┆ ---            │\n",
            "│ str      ┆ i64     ┆ str               ┆ str            │\n",
            "╞══════════╪═════════╪═══════════════════╪════════════════╡\n",
            "│ user1    ┆ 1       ┆ alice@gmail.com   ┆ None           │\n",
            "│ user2    ┆ 2       ┆ bob@gmail.com     ┆ None           │\n",
            "│ user3    ┆ 3       ┆ charlie@gmail.com ┆ None           │\n",
            "│ user4    ┆ 4       ┆ david@gmail.com   ┆ None           │\n",
            "│ user5    ┆ 5       ┆ eve@gmail.com     ┆ None           │\n",
            "│ abcd     ┆ 11      ┆ abcd@gmail        ┆ None           │\n",
            "└──────────┴─────────┴───────────────────┴────────────────┘\n",
            "Database update complete\n"
          ]
        }
      ]
    },
    {
      "cell_type": "code",
      "source": [
        "#Test add book functionality\n",
        "library.add_book(\"user2\",\"haha\",\"omar\",\"1111\")\n",
        "library.view_all()"
      ],
      "metadata": {
        "colab": {
          "base_uri": "https://localhost:8080/"
        },
        "id": "ZR6G_RksYDKj",
        "outputId": "5dfea783-d607-447c-a0b0-cc572884c97d"
      },
      "execution_count": 136,
      "outputs": [
        {
          "output_type": "stream",
          "name": "stdout",
          "text": [
            "New book 'haha' by omar added to the library.\n",
            "Thank you for your donation !\n",
            "Database update complete\n",
            "shape: (11, 5)\n",
            "┌─────────┬─────────────────────┬───────────────────────┬────────────────┬───────────────────┐\n",
            "│ User ID ┆ Author Name         ┆ Book Title            ┆ ISBN           ┆ Quantity in Stock │\n",
            "│ ---     ┆ ---                 ┆ ---                   ┆ ---            ┆ ---               │\n",
            "│ i64     ┆ str                 ┆ str                   ┆ str            ┆ i64               │\n",
            "╞═════════╪═════════════════════╪═══════════════════════╪════════════════╪═══════════════════╡\n",
            "│ 1       ┆ George Orwell       ┆ 1984                  ┆ 978-0451524935 ┆ 3                 │\n",
            "│ 2       ┆ J.K. Rowling        ┆ Harry Potter and the  ┆ 978-0439708180 ┆ 5                 │\n",
            "│         ┆                     ┆ Sorcerer'…            ┆                ┆                   │\n",
            "│ 3       ┆ F. Scott Fitzgerald ┆ The Great Gatsby      ┆ 978-0743273565 ┆ 2                 │\n",
            "│ 4       ┆ Harper Lee          ┆ To Kill a Mockingbird ┆ 978-0061120084 ┆ 4                 │\n",
            "│ 5       ┆ J.R.R. Tolkien      ┆ The Hobbit            ┆ 978-0618968633 ┆ 6                 │\n",
            "│ …       ┆ …                   ┆ …                     ┆ …              ┆ …                 │\n",
            "│ 7       ┆ Aldous Huxley       ┆ Brave New World       ┆ 978-0060850524 ┆ 2                 │\n",
            "│ 8       ┆ Jane Austen         ┆ Pride and Prejudice   ┆ 978-1503290563 ┆ 5                 │\n",
            "│ 9       ┆ Leo Tolstoy         ┆ War and Peace         ┆ 978-1420954286 ┆ 1                 │\n",
            "│ 10      ┆ Arthur Conan Doyle  ┆ A Study in Scarlet    ┆ 978-1511970537 ┆ 8                 │\n",
            "│ 2       ┆ omar                ┆ haha                  ┆ 1111           ┆ 1                 │\n",
            "└─────────┴─────────────────────┴───────────────────────┴────────────────┴───────────────────┘\n"
          ]
        }
      ]
    },
    {
      "cell_type": "code",
      "source": [
        "#Test that user can borrow a book that was added\n",
        "library.borrow_book(\"abcd\",\"ISBN\",\"1111\")\n",
        "library.view_all()"
      ],
      "metadata": {
        "colab": {
          "base_uri": "https://localhost:8080/"
        },
        "id": "0TLxllvIYEmw",
        "outputId": "d4e8b796-1cc9-4938-d16f-c549544ed932"
      },
      "execution_count": 137,
      "outputs": [
        {
          "output_type": "stream",
          "name": "stdout",
          "text": [
            "user:  {'username': 'abcd', 'User ID': 11, 'email': 'abcd@gmail', 'Borrowed Books': 'None'} and the user_id  11\n",
            "shape: (6, 4)\n",
            "┌──────────┬─────────┬───────────────────┬────────────────┐\n",
            "│ username ┆ User ID ┆ email             ┆ Borrowed Books │\n",
            "│ ---      ┆ ---     ┆ ---               ┆ ---            │\n",
            "│ str      ┆ i64     ┆ str               ┆ str            │\n",
            "╞══════════╪═════════╪═══════════════════╪════════════════╡\n",
            "│ user1    ┆ 1       ┆ alice@gmail.com   ┆ None           │\n",
            "│ user2    ┆ 2       ┆ bob@gmail.com     ┆ None           │\n",
            "│ user3    ┆ 3       ┆ charlie@gmail.com ┆ None           │\n",
            "│ user4    ┆ 4       ┆ david@gmail.com   ┆ None           │\n",
            "│ user5    ┆ 5       ┆ eve@gmail.com     ┆ None           │\n",
            "│ abcd     ┆ 11      ┆ abcd@gmail        ┆ 1111           │\n",
            "└──────────┴─────────┴───────────────────┴────────────────┘\n",
            "User 'abcd' has borrowed the book '1111'.\n",
            "Database update complete\n",
            "Database update complete\n",
            "shape: (11, 5)\n",
            "┌─────────┬─────────────────────┬───────────────────────┬────────────────┬───────────────────┐\n",
            "│ User ID ┆ Author Name         ┆ Book Title            ┆ ISBN           ┆ Quantity in Stock │\n",
            "│ ---     ┆ ---                 ┆ ---                   ┆ ---            ┆ ---               │\n",
            "│ i64     ┆ str                 ┆ str                   ┆ str            ┆ i64               │\n",
            "╞═════════╪═════════════════════╪═══════════════════════╪════════════════╪═══════════════════╡\n",
            "│ 1       ┆ George Orwell       ┆ 1984                  ┆ 978-0451524935 ┆ 3                 │\n",
            "│ 2       ┆ J.K. Rowling        ┆ Harry Potter and the  ┆ 978-0439708180 ┆ 5                 │\n",
            "│         ┆                     ┆ Sorcerer'…            ┆                ┆                   │\n",
            "│ 3       ┆ F. Scott Fitzgerald ┆ The Great Gatsby      ┆ 978-0743273565 ┆ 2                 │\n",
            "│ 4       ┆ Harper Lee          ┆ To Kill a Mockingbird ┆ 978-0061120084 ┆ 4                 │\n",
            "│ 5       ┆ J.R.R. Tolkien      ┆ The Hobbit            ┆ 978-0618968633 ┆ 6                 │\n",
            "│ …       ┆ …                   ┆ …                     ┆ …              ┆ …                 │\n",
            "│ 7       ┆ Aldous Huxley       ┆ Brave New World       ┆ 978-0060850524 ┆ 2                 │\n",
            "│ 8       ┆ Jane Austen         ┆ Pride and Prejudice   ┆ 978-1503290563 ┆ 5                 │\n",
            "│ 9       ┆ Leo Tolstoy         ┆ War and Peace         ┆ 978-1420954286 ┆ 1                 │\n",
            "│ 10      ┆ Arthur Conan Doyle  ┆ A Study in Scarlet    ┆ 978-1511970537 ┆ 8                 │\n",
            "│ 2       ┆ omar                ┆ haha                  ┆ 1111           ┆ 0                 │\n",
            "└─────────┴─────────────────────┴───────────────────────┴────────────────┴───────────────────┘\n"
          ]
        }
      ]
    },
    {
      "cell_type": "code",
      "source": [
        "#Test that if you borrow a quantity 0 book it gives an error\n",
        "library.borrow_book(\"user3\",\"ISBN\",\"1111\")"
      ],
      "metadata": {
        "colab": {
          "base_uri": "https://localhost:8080/"
        },
        "id": "ug6x3-tnYHTp",
        "outputId": "86297d22-850e-47d5-89c0-eb757df6aa38"
      },
      "execution_count": 138,
      "outputs": [
        {
          "output_type": "stream",
          "name": "stdout",
          "text": [
            "The book is not available for borrowing.\n"
          ]
        }
      ]
    },
    {
      "cell_type": "markdown",
      "source": [
        "\n",
        "\n",
        "---\n",
        "\n"
      ],
      "metadata": {
        "id": "xY0Ilx1iao1j"
      }
    },
    {
      "cell_type": "markdown",
      "source": [
        "# **THE LIBRARY**\n"
      ],
      "metadata": {
        "id": "8H55hpaSaVn0"
      }
    },
    {
      "cell_type": "code",
      "source": [
        "# Create widgets for library actions\n",
        "username_input = widgets.Text(description=\"Username:\")\n",
        "email_input = widgets.Text(description=\"Email:\")\n",
        "book_title_input = widgets.Text(description=\"Book Title:\")\n",
        "book_author_input = widgets.Text(description=\"Author:\")\n",
        "book_isbn_input = widgets.Text(description=\"ISBN:\")\n",
        "option_input_borrow = widgets.Dropdown(description=\"\", options=[\"ISBN\",\"Book Title\"])\n",
        "option_input_search = widgets.Dropdown(description=\"\", options=[\"ISBN\",\"Book Title\"])\n",
        "value_input_borrow = widgets.Text(description=\"Borrow:\")\n",
        "value_input_search = widgets.Text(description=\"Search for:\")\n",
        "action_output = widgets.Output()\n",
        "\n",
        "\n",
        "# Create buttons for actions\n",
        "create_user_button = widgets.Button(description=\"Create User\")\n",
        "view_books_button = widgets.Button(description=\"View All Books\")\n",
        "add_book_button = widgets.Button(description=\"Add Book\")\n",
        "borrow_book_button = widgets.Button(description=\"Borrow Book\")\n",
        "search_book_button = widgets.Button(description=\"Search Book\")\n",
        "\n",
        "\n",
        "# Define button click events\n",
        "def create_user(button):\n",
        "    with action_output:\n",
        "        action_output.clear_output()\n",
        "        library.create_user(email_input.value, username_input.value)\n",
        "\n",
        "def view_books(button):\n",
        "    with action_output:\n",
        "        action_output.clear_output()\n",
        "        library.view_all()\n",
        "\n",
        "def add_book(button):\n",
        "    with action_output:\n",
        "        action_output.clear_output()\n",
        "        library.add_book(username_input.value, book_title_input.value, book_author_input.value, book_isbn_input.value)\n",
        "\n",
        "def borrow_book(button):\n",
        "    with action_output:\n",
        "        action_output.clear_output()\n",
        "        #if library.book_exists(option_input_borrow.value, value_input_borrow.value):\n",
        "        library.borrow_book(username_input.value, option_input_borrow.value, value_input_borrow.value)\n",
        "        #  print(\"Thank you for borrowing !\")\n",
        "\n",
        "def search_book(button):\n",
        "  with action_output:\n",
        "    action_output.clear_output()\n",
        "    library.book_exists(option_input_search.value, value_input_search.value)\n",
        "\n",
        "\n",
        "    def book_exists(self, option, value):\n",
        "     if option == \"ISBN\" or option == \"Book Title\":\n",
        "        filtered_df = self.books_df.filter(pl.col(option) == value)\n",
        "        if filtered_df.height == 1 and filtered_df.select(\"Quantity in Stock\").to_numpy()[0][0] != 0:\n",
        "          print(\"Yes the book is available !\")\n",
        "          print(filtered_df)\n",
        "          return True\n",
        "        else:\n",
        "          print(\"Book doesnt exist\")\n",
        "          return False\n",
        "     else:\n",
        "      print(f\"option input {option} not valid\")\n",
        "      return False\n",
        "\n",
        "\n",
        "# Attach event handlers\n",
        "create_user_button.on_click(create_user)\n",
        "view_books_button.on_click(view_books)\n",
        "add_book_button.on_click(add_book)\n",
        "borrow_book_button.on_click(borrow_book)\n",
        "search_book_button.on_click(search_book)\n",
        "\n",
        "\n",
        "# Layout the widgets\n",
        "print(\" \"*20 + \"The Library\" + \" \"*20)\n",
        "display(username_input, email_input, create_user_button)\n",
        "print(\"*\"*60)\n",
        "display(book_title_input, book_author_input, book_isbn_input,add_book_button)\n",
        "print(\"*\"*60)\n",
        "display(option_input_search, value_input_search, search_book_button)\n",
        "print(\"*\"*60)\n",
        "display(option_input_borrow, value_input_borrow, borrow_book_button)\n",
        "print(\"*\"*60)\n",
        "display(view_books_button, action_output)"
      ],
      "metadata": {
        "colab": {
          "base_uri": "https://localhost:8080/",
          "height": 542,
          "referenced_widgets": [
            "4fae8f069bca472daf510102c861de6c",
            "bc9470a7147f4d8ba2ca406b67714466",
            "06ce490d3fdb4047846ebed11bc1afb1",
            "3aa639b152e94a9aa67bcb5540c6aee4",
            "3e4a67a7cc244b8ea2f69e2640f0c058",
            "40892ab1c6fb4929a14afa18821410d1",
            "5f7cf07a832d4e44ab5ec12a21e22471",
            "acdee83260cf4e388f3c87aedb77a872",
            "1eba1f67eab14bb4bb6937b33d92c390",
            "a8276dfd4b30459aabf9d8e5da052ccb",
            "0bdbb88f29d047c694d4bf33d27a21f4",
            "985ec613a4184419995441500061deec",
            "ac79b89e58464ae8aa7bc34e3fb57b85",
            "6597c25f7ff544cd8a7fa828fe31a734",
            "ed96f65d6ade4b969ede84b28bf61a28",
            "67b706a7a23245aa8ccc4dba7e89f0b1",
            "0c5508e70d524cfe93d4f5ccf752bf70",
            "c7436bfd6a8145849d77ee67fdb3936f",
            "c0e3e9d26f324d079ee175ebf526ce29",
            "03674661da5c42e2aba336eb4d1ba567",
            "cd6245b71add49e399d14271453c1fea",
            "ce75b82187bd413ebee912d93201e74a",
            "5ca271260f134e208e2eb4d58036202f",
            "415678173e91412f99224a795ad37a68",
            "f286d6161aac4f319f20b1d7fd50f68f",
            "fffe8980ac0d4df993fd43a4a5266018",
            "31a5bbd96ad24bd198add34b3bab5c75",
            "5616804d989642ec8f991d7fdea8d78a",
            "8d8e82db15344d9ab7ce706743b880a3",
            "1bcd80caa0fb4fc3973bea57c57521d7",
            "0b2d4dee325146639a0a3337142f3367",
            "a0889e301f13421ab0ab21b9aaa89c8c",
            "d215154957654b038d39544ddd7640c4",
            "12d9e17c9e0b4b6e9e120c14d0c62a60",
            "1350e1ad65864748ade2c4a64603bf98",
            "c373ecb827e5491cbe200043fb951c91",
            "dab73b6fc30b452995c464b50055ceca",
            "98aae7013f184ec6a5c1e95cb7011b2c",
            "37a4c5f2ddc743b2889efe2af19e1352",
            "f7780d4560504ea890e5be825d986987",
            "1feeffd3d418475fb848eb7418e409b8",
            "91f3eb5230c0425f92efb05b0d0fc31f",
            "6781b0407ac34db7b1020e2be131110f",
            "4e2dc09c52544a3eaef70d607d2ec84a"
          ]
        },
        "id": "Cavk-h7taUi4",
        "outputId": "30fe488b-0a91-4139-97e2-5ea4de3f8694"
      },
      "execution_count": 139,
      "outputs": [
        {
          "output_type": "stream",
          "name": "stdout",
          "text": [
            "                    The Library                    \n"
          ]
        },
        {
          "output_type": "display_data",
          "data": {
            "text/plain": [
              "Text(value='', description='Username:')"
            ],
            "application/vnd.jupyter.widget-view+json": {
              "version_major": 2,
              "version_minor": 0,
              "model_id": "4fae8f069bca472daf510102c861de6c"
            }
          },
          "metadata": {}
        },
        {
          "output_type": "display_data",
          "data": {
            "text/plain": [
              "Text(value='', description='Email:')"
            ],
            "application/vnd.jupyter.widget-view+json": {
              "version_major": 2,
              "version_minor": 0,
              "model_id": "3aa639b152e94a9aa67bcb5540c6aee4"
            }
          },
          "metadata": {}
        },
        {
          "output_type": "display_data",
          "data": {
            "text/plain": [
              "Button(description='Create User', style=ButtonStyle())"
            ],
            "application/vnd.jupyter.widget-view+json": {
              "version_major": 2,
              "version_minor": 0,
              "model_id": "5f7cf07a832d4e44ab5ec12a21e22471"
            }
          },
          "metadata": {}
        },
        {
          "output_type": "stream",
          "name": "stdout",
          "text": [
            "************************************************************\n"
          ]
        },
        {
          "output_type": "display_data",
          "data": {
            "text/plain": [
              "Text(value='', description='Book Title:')"
            ],
            "application/vnd.jupyter.widget-view+json": {
              "version_major": 2,
              "version_minor": 0,
              "model_id": "a8276dfd4b30459aabf9d8e5da052ccb"
            }
          },
          "metadata": {}
        },
        {
          "output_type": "display_data",
          "data": {
            "text/plain": [
              "Text(value='', description='Author:')"
            ],
            "application/vnd.jupyter.widget-view+json": {
              "version_major": 2,
              "version_minor": 0,
              "model_id": "ac79b89e58464ae8aa7bc34e3fb57b85"
            }
          },
          "metadata": {}
        },
        {
          "output_type": "display_data",
          "data": {
            "text/plain": [
              "Text(value='', description='ISBN:')"
            ],
            "application/vnd.jupyter.widget-view+json": {
              "version_major": 2,
              "version_minor": 0,
              "model_id": "67b706a7a23245aa8ccc4dba7e89f0b1"
            }
          },
          "metadata": {}
        },
        {
          "output_type": "display_data",
          "data": {
            "text/plain": [
              "Button(description='Add Book', style=ButtonStyle())"
            ],
            "application/vnd.jupyter.widget-view+json": {
              "version_major": 2,
              "version_minor": 0,
              "model_id": "c0e3e9d26f324d079ee175ebf526ce29"
            }
          },
          "metadata": {}
        },
        {
          "output_type": "stream",
          "name": "stdout",
          "text": [
            "************************************************************\n"
          ]
        },
        {
          "output_type": "display_data",
          "data": {
            "text/plain": [
              "Dropdown(options=('ISBN', 'Book Title'), value='ISBN')"
            ],
            "application/vnd.jupyter.widget-view+json": {
              "version_major": 2,
              "version_minor": 0,
              "model_id": "ce75b82187bd413ebee912d93201e74a"
            }
          },
          "metadata": {}
        },
        {
          "output_type": "display_data",
          "data": {
            "text/plain": [
              "Text(value='', description='Search for:')"
            ],
            "application/vnd.jupyter.widget-view+json": {
              "version_major": 2,
              "version_minor": 0,
              "model_id": "f286d6161aac4f319f20b1d7fd50f68f"
            }
          },
          "metadata": {}
        },
        {
          "output_type": "display_data",
          "data": {
            "text/plain": [
              "Button(description='Search Book', style=ButtonStyle())"
            ],
            "application/vnd.jupyter.widget-view+json": {
              "version_major": 2,
              "version_minor": 0,
              "model_id": "5616804d989642ec8f991d7fdea8d78a"
            }
          },
          "metadata": {}
        },
        {
          "output_type": "stream",
          "name": "stdout",
          "text": [
            "************************************************************\n"
          ]
        },
        {
          "output_type": "display_data",
          "data": {
            "text/plain": [
              "Dropdown(options=('ISBN', 'Book Title'), value='ISBN')"
            ],
            "application/vnd.jupyter.widget-view+json": {
              "version_major": 2,
              "version_minor": 0,
              "model_id": "0b2d4dee325146639a0a3337142f3367"
            }
          },
          "metadata": {}
        },
        {
          "output_type": "display_data",
          "data": {
            "text/plain": [
              "Text(value='', description='Borrow:')"
            ],
            "application/vnd.jupyter.widget-view+json": {
              "version_major": 2,
              "version_minor": 0,
              "model_id": "12d9e17c9e0b4b6e9e120c14d0c62a60"
            }
          },
          "metadata": {}
        },
        {
          "output_type": "display_data",
          "data": {
            "text/plain": [
              "Button(description='Borrow Book', style=ButtonStyle())"
            ],
            "application/vnd.jupyter.widget-view+json": {
              "version_major": 2,
              "version_minor": 0,
              "model_id": "dab73b6fc30b452995c464b50055ceca"
            }
          },
          "metadata": {}
        },
        {
          "output_type": "stream",
          "name": "stdout",
          "text": [
            "************************************************************\n"
          ]
        },
        {
          "output_type": "display_data",
          "data": {
            "text/plain": [
              "Button(description='View All Books', style=ButtonStyle())"
            ],
            "application/vnd.jupyter.widget-view+json": {
              "version_major": 2,
              "version_minor": 0,
              "model_id": "f7780d4560504ea890e5be825d986987"
            }
          },
          "metadata": {}
        },
        {
          "output_type": "display_data",
          "data": {
            "text/plain": [
              "Output()"
            ],
            "application/vnd.jupyter.widget-view+json": {
              "version_major": 2,
              "version_minor": 0,
              "model_id": "6781b0407ac34db7b1020e2be131110f"
            }
          },
          "metadata": {}
        }
      ]
    },
    {
      "cell_type": "markdown",
      "source": [
        "Some more experimental Interface"
      ],
      "metadata": {
        "id": "iv7bTAZTakg8"
      }
    },
    {
      "cell_type": "code",
      "source": [
        "library = Library()\n",
        "\n",
        "#create widgets\n",
        "action_output = widgets.Output()\n",
        "login_button = widgets.Button(description=\"Login\")\n",
        "username_input = widgets.Text(description = \"Username\")\n",
        "email_input = widgets.Text(description = \"Email\")\n",
        "\n",
        "\n",
        "\n",
        "#login button click event\n",
        "def login_user(button):\n",
        "    with action_output:\n",
        "        action_output.clear_output()\n",
        "        print(\"-\"*60)\n",
        "        if(library.get_user(\"username\", username_input.value)):\n",
        "            login_button.layout.display = 'none'\n",
        "            username_input.layout.display = 'none'\n",
        "            email_input.layout.display = 'none'\n",
        "            print(\"Welcome back !\")\n",
        "            print(\"-\"*60)\n",
        "        else:\n",
        "          login_button.layout.display = 'none'\n",
        "          username_input.layout.display = 'none'\n",
        "          email_input.layout.display = 'none'\n",
        "          print(\"Creating an account...\")\n",
        "          library.create_user(email_input.value, username_input.value)\n",
        "          print(\"-\"*60)\n",
        "\n",
        "\n",
        "login_button.on_click(login_user)\n",
        "\n",
        "\n",
        "# Layout the widgets\n",
        "print(\" \"*20 + \"The Library\" + \" \"*20)\n",
        "display(username_input, email_input, login_button)\n",
        "display(action_output)"
      ],
      "metadata": {
        "colab": {
          "base_uri": "https://localhost:8080/",
          "height": 129,
          "referenced_widgets": [
            "754cdbfbd518439597828199cd7322f3",
            "86e26b2352794aac8d59951c34bfb11f",
            "8eab4028aa894f26a1405473bd2aa03f",
            "157d0da4319a4a08b151b185450c35c3",
            "46a9b4fd14394f9c88946e77aaed404d",
            "ce217351beaa4ded9808ba3f9918da6a",
            "aef6c93277854e80912b4a543bab2260",
            "c89494cbc5ce473cb51efe7afaaa0cf9",
            "da594f8e37cd4e99b021dc0e73e98e40",
            "0bfe5c7a18494dda93cbe92e5a072f46",
            "c1484adc44044f1c95b753c7b7c74b4b"
          ]
        },
        "id": "Sblz5V70ajk-",
        "outputId": "bc0373b9-fca8-4158-ef8c-0135b99c647d"
      },
      "execution_count": 140,
      "outputs": [
        {
          "output_type": "stream",
          "name": "stdout",
          "text": [
            "                    The Library                    \n"
          ]
        },
        {
          "output_type": "display_data",
          "data": {
            "text/plain": [
              "Text(value='', description='Username')"
            ],
            "application/vnd.jupyter.widget-view+json": {
              "version_major": 2,
              "version_minor": 0,
              "model_id": "754cdbfbd518439597828199cd7322f3"
            }
          },
          "metadata": {}
        },
        {
          "output_type": "display_data",
          "data": {
            "text/plain": [
              "Text(value='', description='Email')"
            ],
            "application/vnd.jupyter.widget-view+json": {
              "version_major": 2,
              "version_minor": 0,
              "model_id": "157d0da4319a4a08b151b185450c35c3"
            }
          },
          "metadata": {}
        },
        {
          "output_type": "display_data",
          "data": {
            "text/plain": [
              "Button(description='Login', style=ButtonStyle())"
            ],
            "application/vnd.jupyter.widget-view+json": {
              "version_major": 2,
              "version_minor": 0,
              "model_id": "aef6c93277854e80912b4a543bab2260"
            }
          },
          "metadata": {}
        },
        {
          "output_type": "display_data",
          "data": {
            "text/plain": [
              "Output()"
            ],
            "application/vnd.jupyter.widget-view+json": {
              "version_major": 2,
              "version_minor": 0,
              "model_id": "0bfe5c7a18494dda93cbe92e5a072f46"
            }
          },
          "metadata": {}
        }
      ]
    }
  ],
  "metadata": {
    "colab": {
      "provenance": [],
      "include_colab_link": true
    },
    "kernelspec": {
      "display_name": "Python 3",
      "name": "python3"
    },
    "language_info": {
      "name": "python"
    },
    "widgets": {
      "application/vnd.jupyter.widget-state+json": {
        "4fae8f069bca472daf510102c861de6c": {
          "model_module": "@jupyter-widgets/controls",
          "model_name": "TextModel",
          "model_module_version": "1.5.0",
          "state": {
            "_dom_classes": [],
            "_model_module": "@jupyter-widgets/controls",
            "_model_module_version": "1.5.0",
            "_model_name": "TextModel",
            "_view_count": null,
            "_view_module": "@jupyter-widgets/controls",
            "_view_module_version": "1.5.0",
            "_view_name": "TextView",
            "continuous_update": true,
            "description": "Username:",
            "description_tooltip": null,
            "disabled": false,
            "layout": "IPY_MODEL_bc9470a7147f4d8ba2ca406b67714466",
            "placeholder": "​",
            "style": "IPY_MODEL_06ce490d3fdb4047846ebed11bc1afb1",
            "value": ""
          }
        },
        "bc9470a7147f4d8ba2ca406b67714466": {
          "model_module": "@jupyter-widgets/base",
          "model_name": "LayoutModel",
          "model_module_version": "1.2.0",
          "state": {
            "_model_module": "@jupyter-widgets/base",
            "_model_module_version": "1.2.0",
            "_model_name": "LayoutModel",
            "_view_count": null,
            "_view_module": "@jupyter-widgets/base",
            "_view_module_version": "1.2.0",
            "_view_name": "LayoutView",
            "align_content": null,
            "align_items": null,
            "align_self": null,
            "border": null,
            "bottom": null,
            "display": null,
            "flex": null,
            "flex_flow": null,
            "grid_area": null,
            "grid_auto_columns": null,
            "grid_auto_flow": null,
            "grid_auto_rows": null,
            "grid_column": null,
            "grid_gap": null,
            "grid_row": null,
            "grid_template_areas": null,
            "grid_template_columns": null,
            "grid_template_rows": null,
            "height": null,
            "justify_content": null,
            "justify_items": null,
            "left": null,
            "margin": null,
            "max_height": null,
            "max_width": null,
            "min_height": null,
            "min_width": null,
            "object_fit": null,
            "object_position": null,
            "order": null,
            "overflow": null,
            "overflow_x": null,
            "overflow_y": null,
            "padding": null,
            "right": null,
            "top": null,
            "visibility": null,
            "width": null
          }
        },
        "06ce490d3fdb4047846ebed11bc1afb1": {
          "model_module": "@jupyter-widgets/controls",
          "model_name": "DescriptionStyleModel",
          "model_module_version": "1.5.0",
          "state": {
            "_model_module": "@jupyter-widgets/controls",
            "_model_module_version": "1.5.0",
            "_model_name": "DescriptionStyleModel",
            "_view_count": null,
            "_view_module": "@jupyter-widgets/base",
            "_view_module_version": "1.2.0",
            "_view_name": "StyleView",
            "description_width": ""
          }
        },
        "3aa639b152e94a9aa67bcb5540c6aee4": {
          "model_module": "@jupyter-widgets/controls",
          "model_name": "TextModel",
          "model_module_version": "1.5.0",
          "state": {
            "_dom_classes": [],
            "_model_module": "@jupyter-widgets/controls",
            "_model_module_version": "1.5.0",
            "_model_name": "TextModel",
            "_view_count": null,
            "_view_module": "@jupyter-widgets/controls",
            "_view_module_version": "1.5.0",
            "_view_name": "TextView",
            "continuous_update": true,
            "description": "Email:",
            "description_tooltip": null,
            "disabled": false,
            "layout": "IPY_MODEL_3e4a67a7cc244b8ea2f69e2640f0c058",
            "placeholder": "​",
            "style": "IPY_MODEL_40892ab1c6fb4929a14afa18821410d1",
            "value": ""
          }
        },
        "3e4a67a7cc244b8ea2f69e2640f0c058": {
          "model_module": "@jupyter-widgets/base",
          "model_name": "LayoutModel",
          "model_module_version": "1.2.0",
          "state": {
            "_model_module": "@jupyter-widgets/base",
            "_model_module_version": "1.2.0",
            "_model_name": "LayoutModel",
            "_view_count": null,
            "_view_module": "@jupyter-widgets/base",
            "_view_module_version": "1.2.0",
            "_view_name": "LayoutView",
            "align_content": null,
            "align_items": null,
            "align_self": null,
            "border": null,
            "bottom": null,
            "display": null,
            "flex": null,
            "flex_flow": null,
            "grid_area": null,
            "grid_auto_columns": null,
            "grid_auto_flow": null,
            "grid_auto_rows": null,
            "grid_column": null,
            "grid_gap": null,
            "grid_row": null,
            "grid_template_areas": null,
            "grid_template_columns": null,
            "grid_template_rows": null,
            "height": null,
            "justify_content": null,
            "justify_items": null,
            "left": null,
            "margin": null,
            "max_height": null,
            "max_width": null,
            "min_height": null,
            "min_width": null,
            "object_fit": null,
            "object_position": null,
            "order": null,
            "overflow": null,
            "overflow_x": null,
            "overflow_y": null,
            "padding": null,
            "right": null,
            "top": null,
            "visibility": null,
            "width": null
          }
        },
        "40892ab1c6fb4929a14afa18821410d1": {
          "model_module": "@jupyter-widgets/controls",
          "model_name": "DescriptionStyleModel",
          "model_module_version": "1.5.0",
          "state": {
            "_model_module": "@jupyter-widgets/controls",
            "_model_module_version": "1.5.0",
            "_model_name": "DescriptionStyleModel",
            "_view_count": null,
            "_view_module": "@jupyter-widgets/base",
            "_view_module_version": "1.2.0",
            "_view_name": "StyleView",
            "description_width": ""
          }
        },
        "5f7cf07a832d4e44ab5ec12a21e22471": {
          "model_module": "@jupyter-widgets/controls",
          "model_name": "ButtonModel",
          "model_module_version": "1.5.0",
          "state": {
            "_dom_classes": [],
            "_model_module": "@jupyter-widgets/controls",
            "_model_module_version": "1.5.0",
            "_model_name": "ButtonModel",
            "_view_count": null,
            "_view_module": "@jupyter-widgets/controls",
            "_view_module_version": "1.5.0",
            "_view_name": "ButtonView",
            "button_style": "",
            "description": "Create User",
            "disabled": false,
            "icon": "",
            "layout": "IPY_MODEL_acdee83260cf4e388f3c87aedb77a872",
            "style": "IPY_MODEL_1eba1f67eab14bb4bb6937b33d92c390",
            "tooltip": ""
          }
        },
        "acdee83260cf4e388f3c87aedb77a872": {
          "model_module": "@jupyter-widgets/base",
          "model_name": "LayoutModel",
          "model_module_version": "1.2.0",
          "state": {
            "_model_module": "@jupyter-widgets/base",
            "_model_module_version": "1.2.0",
            "_model_name": "LayoutModel",
            "_view_count": null,
            "_view_module": "@jupyter-widgets/base",
            "_view_module_version": "1.2.0",
            "_view_name": "LayoutView",
            "align_content": null,
            "align_items": null,
            "align_self": null,
            "border": null,
            "bottom": null,
            "display": null,
            "flex": null,
            "flex_flow": null,
            "grid_area": null,
            "grid_auto_columns": null,
            "grid_auto_flow": null,
            "grid_auto_rows": null,
            "grid_column": null,
            "grid_gap": null,
            "grid_row": null,
            "grid_template_areas": null,
            "grid_template_columns": null,
            "grid_template_rows": null,
            "height": null,
            "justify_content": null,
            "justify_items": null,
            "left": null,
            "margin": null,
            "max_height": null,
            "max_width": null,
            "min_height": null,
            "min_width": null,
            "object_fit": null,
            "object_position": null,
            "order": null,
            "overflow": null,
            "overflow_x": null,
            "overflow_y": null,
            "padding": null,
            "right": null,
            "top": null,
            "visibility": null,
            "width": null
          }
        },
        "1eba1f67eab14bb4bb6937b33d92c390": {
          "model_module": "@jupyter-widgets/controls",
          "model_name": "ButtonStyleModel",
          "model_module_version": "1.5.0",
          "state": {
            "_model_module": "@jupyter-widgets/controls",
            "_model_module_version": "1.5.0",
            "_model_name": "ButtonStyleModel",
            "_view_count": null,
            "_view_module": "@jupyter-widgets/base",
            "_view_module_version": "1.2.0",
            "_view_name": "StyleView",
            "button_color": null,
            "font_weight": ""
          }
        },
        "a8276dfd4b30459aabf9d8e5da052ccb": {
          "model_module": "@jupyter-widgets/controls",
          "model_name": "TextModel",
          "model_module_version": "1.5.0",
          "state": {
            "_dom_classes": [],
            "_model_module": "@jupyter-widgets/controls",
            "_model_module_version": "1.5.0",
            "_model_name": "TextModel",
            "_view_count": null,
            "_view_module": "@jupyter-widgets/controls",
            "_view_module_version": "1.5.0",
            "_view_name": "TextView",
            "continuous_update": true,
            "description": "Book Title:",
            "description_tooltip": null,
            "disabled": false,
            "layout": "IPY_MODEL_0bdbb88f29d047c694d4bf33d27a21f4",
            "placeholder": "​",
            "style": "IPY_MODEL_985ec613a4184419995441500061deec",
            "value": ""
          }
        },
        "0bdbb88f29d047c694d4bf33d27a21f4": {
          "model_module": "@jupyter-widgets/base",
          "model_name": "LayoutModel",
          "model_module_version": "1.2.0",
          "state": {
            "_model_module": "@jupyter-widgets/base",
            "_model_module_version": "1.2.0",
            "_model_name": "LayoutModel",
            "_view_count": null,
            "_view_module": "@jupyter-widgets/base",
            "_view_module_version": "1.2.0",
            "_view_name": "LayoutView",
            "align_content": null,
            "align_items": null,
            "align_self": null,
            "border": null,
            "bottom": null,
            "display": null,
            "flex": null,
            "flex_flow": null,
            "grid_area": null,
            "grid_auto_columns": null,
            "grid_auto_flow": null,
            "grid_auto_rows": null,
            "grid_column": null,
            "grid_gap": null,
            "grid_row": null,
            "grid_template_areas": null,
            "grid_template_columns": null,
            "grid_template_rows": null,
            "height": null,
            "justify_content": null,
            "justify_items": null,
            "left": null,
            "margin": null,
            "max_height": null,
            "max_width": null,
            "min_height": null,
            "min_width": null,
            "object_fit": null,
            "object_position": null,
            "order": null,
            "overflow": null,
            "overflow_x": null,
            "overflow_y": null,
            "padding": null,
            "right": null,
            "top": null,
            "visibility": null,
            "width": null
          }
        },
        "985ec613a4184419995441500061deec": {
          "model_module": "@jupyter-widgets/controls",
          "model_name": "DescriptionStyleModel",
          "model_module_version": "1.5.0",
          "state": {
            "_model_module": "@jupyter-widgets/controls",
            "_model_module_version": "1.5.0",
            "_model_name": "DescriptionStyleModel",
            "_view_count": null,
            "_view_module": "@jupyter-widgets/base",
            "_view_module_version": "1.2.0",
            "_view_name": "StyleView",
            "description_width": ""
          }
        },
        "ac79b89e58464ae8aa7bc34e3fb57b85": {
          "model_module": "@jupyter-widgets/controls",
          "model_name": "TextModel",
          "model_module_version": "1.5.0",
          "state": {
            "_dom_classes": [],
            "_model_module": "@jupyter-widgets/controls",
            "_model_module_version": "1.5.0",
            "_model_name": "TextModel",
            "_view_count": null,
            "_view_module": "@jupyter-widgets/controls",
            "_view_module_version": "1.5.0",
            "_view_name": "TextView",
            "continuous_update": true,
            "description": "Author:",
            "description_tooltip": null,
            "disabled": false,
            "layout": "IPY_MODEL_6597c25f7ff544cd8a7fa828fe31a734",
            "placeholder": "​",
            "style": "IPY_MODEL_ed96f65d6ade4b969ede84b28bf61a28",
            "value": ""
          }
        },
        "6597c25f7ff544cd8a7fa828fe31a734": {
          "model_module": "@jupyter-widgets/base",
          "model_name": "LayoutModel",
          "model_module_version": "1.2.0",
          "state": {
            "_model_module": "@jupyter-widgets/base",
            "_model_module_version": "1.2.0",
            "_model_name": "LayoutModel",
            "_view_count": null,
            "_view_module": "@jupyter-widgets/base",
            "_view_module_version": "1.2.0",
            "_view_name": "LayoutView",
            "align_content": null,
            "align_items": null,
            "align_self": null,
            "border": null,
            "bottom": null,
            "display": null,
            "flex": null,
            "flex_flow": null,
            "grid_area": null,
            "grid_auto_columns": null,
            "grid_auto_flow": null,
            "grid_auto_rows": null,
            "grid_column": null,
            "grid_gap": null,
            "grid_row": null,
            "grid_template_areas": null,
            "grid_template_columns": null,
            "grid_template_rows": null,
            "height": null,
            "justify_content": null,
            "justify_items": null,
            "left": null,
            "margin": null,
            "max_height": null,
            "max_width": null,
            "min_height": null,
            "min_width": null,
            "object_fit": null,
            "object_position": null,
            "order": null,
            "overflow": null,
            "overflow_x": null,
            "overflow_y": null,
            "padding": null,
            "right": null,
            "top": null,
            "visibility": null,
            "width": null
          }
        },
        "ed96f65d6ade4b969ede84b28bf61a28": {
          "model_module": "@jupyter-widgets/controls",
          "model_name": "DescriptionStyleModel",
          "model_module_version": "1.5.0",
          "state": {
            "_model_module": "@jupyter-widgets/controls",
            "_model_module_version": "1.5.0",
            "_model_name": "DescriptionStyleModel",
            "_view_count": null,
            "_view_module": "@jupyter-widgets/base",
            "_view_module_version": "1.2.0",
            "_view_name": "StyleView",
            "description_width": ""
          }
        },
        "67b706a7a23245aa8ccc4dba7e89f0b1": {
          "model_module": "@jupyter-widgets/controls",
          "model_name": "TextModel",
          "model_module_version": "1.5.0",
          "state": {
            "_dom_classes": [],
            "_model_module": "@jupyter-widgets/controls",
            "_model_module_version": "1.5.0",
            "_model_name": "TextModel",
            "_view_count": null,
            "_view_module": "@jupyter-widgets/controls",
            "_view_module_version": "1.5.0",
            "_view_name": "TextView",
            "continuous_update": true,
            "description": "ISBN:",
            "description_tooltip": null,
            "disabled": false,
            "layout": "IPY_MODEL_0c5508e70d524cfe93d4f5ccf752bf70",
            "placeholder": "​",
            "style": "IPY_MODEL_c7436bfd6a8145849d77ee67fdb3936f",
            "value": ""
          }
        },
        "0c5508e70d524cfe93d4f5ccf752bf70": {
          "model_module": "@jupyter-widgets/base",
          "model_name": "LayoutModel",
          "model_module_version": "1.2.0",
          "state": {
            "_model_module": "@jupyter-widgets/base",
            "_model_module_version": "1.2.0",
            "_model_name": "LayoutModel",
            "_view_count": null,
            "_view_module": "@jupyter-widgets/base",
            "_view_module_version": "1.2.0",
            "_view_name": "LayoutView",
            "align_content": null,
            "align_items": null,
            "align_self": null,
            "border": null,
            "bottom": null,
            "display": null,
            "flex": null,
            "flex_flow": null,
            "grid_area": null,
            "grid_auto_columns": null,
            "grid_auto_flow": null,
            "grid_auto_rows": null,
            "grid_column": null,
            "grid_gap": null,
            "grid_row": null,
            "grid_template_areas": null,
            "grid_template_columns": null,
            "grid_template_rows": null,
            "height": null,
            "justify_content": null,
            "justify_items": null,
            "left": null,
            "margin": null,
            "max_height": null,
            "max_width": null,
            "min_height": null,
            "min_width": null,
            "object_fit": null,
            "object_position": null,
            "order": null,
            "overflow": null,
            "overflow_x": null,
            "overflow_y": null,
            "padding": null,
            "right": null,
            "top": null,
            "visibility": null,
            "width": null
          }
        },
        "c7436bfd6a8145849d77ee67fdb3936f": {
          "model_module": "@jupyter-widgets/controls",
          "model_name": "DescriptionStyleModel",
          "model_module_version": "1.5.0",
          "state": {
            "_model_module": "@jupyter-widgets/controls",
            "_model_module_version": "1.5.0",
            "_model_name": "DescriptionStyleModel",
            "_view_count": null,
            "_view_module": "@jupyter-widgets/base",
            "_view_module_version": "1.2.0",
            "_view_name": "StyleView",
            "description_width": ""
          }
        },
        "c0e3e9d26f324d079ee175ebf526ce29": {
          "model_module": "@jupyter-widgets/controls",
          "model_name": "ButtonModel",
          "model_module_version": "1.5.0",
          "state": {
            "_dom_classes": [],
            "_model_module": "@jupyter-widgets/controls",
            "_model_module_version": "1.5.0",
            "_model_name": "ButtonModel",
            "_view_count": null,
            "_view_module": "@jupyter-widgets/controls",
            "_view_module_version": "1.5.0",
            "_view_name": "ButtonView",
            "button_style": "",
            "description": "Add Book",
            "disabled": false,
            "icon": "",
            "layout": "IPY_MODEL_03674661da5c42e2aba336eb4d1ba567",
            "style": "IPY_MODEL_cd6245b71add49e399d14271453c1fea",
            "tooltip": ""
          }
        },
        "03674661da5c42e2aba336eb4d1ba567": {
          "model_module": "@jupyter-widgets/base",
          "model_name": "LayoutModel",
          "model_module_version": "1.2.0",
          "state": {
            "_model_module": "@jupyter-widgets/base",
            "_model_module_version": "1.2.0",
            "_model_name": "LayoutModel",
            "_view_count": null,
            "_view_module": "@jupyter-widgets/base",
            "_view_module_version": "1.2.0",
            "_view_name": "LayoutView",
            "align_content": null,
            "align_items": null,
            "align_self": null,
            "border": null,
            "bottom": null,
            "display": null,
            "flex": null,
            "flex_flow": null,
            "grid_area": null,
            "grid_auto_columns": null,
            "grid_auto_flow": null,
            "grid_auto_rows": null,
            "grid_column": null,
            "grid_gap": null,
            "grid_row": null,
            "grid_template_areas": null,
            "grid_template_columns": null,
            "grid_template_rows": null,
            "height": null,
            "justify_content": null,
            "justify_items": null,
            "left": null,
            "margin": null,
            "max_height": null,
            "max_width": null,
            "min_height": null,
            "min_width": null,
            "object_fit": null,
            "object_position": null,
            "order": null,
            "overflow": null,
            "overflow_x": null,
            "overflow_y": null,
            "padding": null,
            "right": null,
            "top": null,
            "visibility": null,
            "width": null
          }
        },
        "cd6245b71add49e399d14271453c1fea": {
          "model_module": "@jupyter-widgets/controls",
          "model_name": "ButtonStyleModel",
          "model_module_version": "1.5.0",
          "state": {
            "_model_module": "@jupyter-widgets/controls",
            "_model_module_version": "1.5.0",
            "_model_name": "ButtonStyleModel",
            "_view_count": null,
            "_view_module": "@jupyter-widgets/base",
            "_view_module_version": "1.2.0",
            "_view_name": "StyleView",
            "button_color": null,
            "font_weight": ""
          }
        },
        "ce75b82187bd413ebee912d93201e74a": {
          "model_module": "@jupyter-widgets/controls",
          "model_name": "DropdownModel",
          "model_module_version": "1.5.0",
          "state": {
            "_dom_classes": [],
            "_model_module": "@jupyter-widgets/controls",
            "_model_module_version": "1.5.0",
            "_model_name": "DropdownModel",
            "_options_labels": [
              "ISBN",
              "Book Title"
            ],
            "_view_count": null,
            "_view_module": "@jupyter-widgets/controls",
            "_view_module_version": "1.5.0",
            "_view_name": "DropdownView",
            "description": "",
            "description_tooltip": null,
            "disabled": false,
            "index": 0,
            "layout": "IPY_MODEL_5ca271260f134e208e2eb4d58036202f",
            "style": "IPY_MODEL_415678173e91412f99224a795ad37a68"
          }
        },
        "5ca271260f134e208e2eb4d58036202f": {
          "model_module": "@jupyter-widgets/base",
          "model_name": "LayoutModel",
          "model_module_version": "1.2.0",
          "state": {
            "_model_module": "@jupyter-widgets/base",
            "_model_module_version": "1.2.0",
            "_model_name": "LayoutModel",
            "_view_count": null,
            "_view_module": "@jupyter-widgets/base",
            "_view_module_version": "1.2.0",
            "_view_name": "LayoutView",
            "align_content": null,
            "align_items": null,
            "align_self": null,
            "border": null,
            "bottom": null,
            "display": null,
            "flex": null,
            "flex_flow": null,
            "grid_area": null,
            "grid_auto_columns": null,
            "grid_auto_flow": null,
            "grid_auto_rows": null,
            "grid_column": null,
            "grid_gap": null,
            "grid_row": null,
            "grid_template_areas": null,
            "grid_template_columns": null,
            "grid_template_rows": null,
            "height": null,
            "justify_content": null,
            "justify_items": null,
            "left": null,
            "margin": null,
            "max_height": null,
            "max_width": null,
            "min_height": null,
            "min_width": null,
            "object_fit": null,
            "object_position": null,
            "order": null,
            "overflow": null,
            "overflow_x": null,
            "overflow_y": null,
            "padding": null,
            "right": null,
            "top": null,
            "visibility": null,
            "width": null
          }
        },
        "415678173e91412f99224a795ad37a68": {
          "model_module": "@jupyter-widgets/controls",
          "model_name": "DescriptionStyleModel",
          "model_module_version": "1.5.0",
          "state": {
            "_model_module": "@jupyter-widgets/controls",
            "_model_module_version": "1.5.0",
            "_model_name": "DescriptionStyleModel",
            "_view_count": null,
            "_view_module": "@jupyter-widgets/base",
            "_view_module_version": "1.2.0",
            "_view_name": "StyleView",
            "description_width": ""
          }
        },
        "f286d6161aac4f319f20b1d7fd50f68f": {
          "model_module": "@jupyter-widgets/controls",
          "model_name": "TextModel",
          "model_module_version": "1.5.0",
          "state": {
            "_dom_classes": [],
            "_model_module": "@jupyter-widgets/controls",
            "_model_module_version": "1.5.0",
            "_model_name": "TextModel",
            "_view_count": null,
            "_view_module": "@jupyter-widgets/controls",
            "_view_module_version": "1.5.0",
            "_view_name": "TextView",
            "continuous_update": true,
            "description": "Search for:",
            "description_tooltip": null,
            "disabled": false,
            "layout": "IPY_MODEL_fffe8980ac0d4df993fd43a4a5266018",
            "placeholder": "​",
            "style": "IPY_MODEL_31a5bbd96ad24bd198add34b3bab5c75",
            "value": ""
          }
        },
        "fffe8980ac0d4df993fd43a4a5266018": {
          "model_module": "@jupyter-widgets/base",
          "model_name": "LayoutModel",
          "model_module_version": "1.2.0",
          "state": {
            "_model_module": "@jupyter-widgets/base",
            "_model_module_version": "1.2.0",
            "_model_name": "LayoutModel",
            "_view_count": null,
            "_view_module": "@jupyter-widgets/base",
            "_view_module_version": "1.2.0",
            "_view_name": "LayoutView",
            "align_content": null,
            "align_items": null,
            "align_self": null,
            "border": null,
            "bottom": null,
            "display": null,
            "flex": null,
            "flex_flow": null,
            "grid_area": null,
            "grid_auto_columns": null,
            "grid_auto_flow": null,
            "grid_auto_rows": null,
            "grid_column": null,
            "grid_gap": null,
            "grid_row": null,
            "grid_template_areas": null,
            "grid_template_columns": null,
            "grid_template_rows": null,
            "height": null,
            "justify_content": null,
            "justify_items": null,
            "left": null,
            "margin": null,
            "max_height": null,
            "max_width": null,
            "min_height": null,
            "min_width": null,
            "object_fit": null,
            "object_position": null,
            "order": null,
            "overflow": null,
            "overflow_x": null,
            "overflow_y": null,
            "padding": null,
            "right": null,
            "top": null,
            "visibility": null,
            "width": null
          }
        },
        "31a5bbd96ad24bd198add34b3bab5c75": {
          "model_module": "@jupyter-widgets/controls",
          "model_name": "DescriptionStyleModel",
          "model_module_version": "1.5.0",
          "state": {
            "_model_module": "@jupyter-widgets/controls",
            "_model_module_version": "1.5.0",
            "_model_name": "DescriptionStyleModel",
            "_view_count": null,
            "_view_module": "@jupyter-widgets/base",
            "_view_module_version": "1.2.0",
            "_view_name": "StyleView",
            "description_width": ""
          }
        },
        "5616804d989642ec8f991d7fdea8d78a": {
          "model_module": "@jupyter-widgets/controls",
          "model_name": "ButtonModel",
          "model_module_version": "1.5.0",
          "state": {
            "_dom_classes": [],
            "_model_module": "@jupyter-widgets/controls",
            "_model_module_version": "1.5.0",
            "_model_name": "ButtonModel",
            "_view_count": null,
            "_view_module": "@jupyter-widgets/controls",
            "_view_module_version": "1.5.0",
            "_view_name": "ButtonView",
            "button_style": "",
            "description": "Search Book",
            "disabled": false,
            "icon": "",
            "layout": "IPY_MODEL_8d8e82db15344d9ab7ce706743b880a3",
            "style": "IPY_MODEL_1bcd80caa0fb4fc3973bea57c57521d7",
            "tooltip": ""
          }
        },
        "8d8e82db15344d9ab7ce706743b880a3": {
          "model_module": "@jupyter-widgets/base",
          "model_name": "LayoutModel",
          "model_module_version": "1.2.0",
          "state": {
            "_model_module": "@jupyter-widgets/base",
            "_model_module_version": "1.2.0",
            "_model_name": "LayoutModel",
            "_view_count": null,
            "_view_module": "@jupyter-widgets/base",
            "_view_module_version": "1.2.0",
            "_view_name": "LayoutView",
            "align_content": null,
            "align_items": null,
            "align_self": null,
            "border": null,
            "bottom": null,
            "display": null,
            "flex": null,
            "flex_flow": null,
            "grid_area": null,
            "grid_auto_columns": null,
            "grid_auto_flow": null,
            "grid_auto_rows": null,
            "grid_column": null,
            "grid_gap": null,
            "grid_row": null,
            "grid_template_areas": null,
            "grid_template_columns": null,
            "grid_template_rows": null,
            "height": null,
            "justify_content": null,
            "justify_items": null,
            "left": null,
            "margin": null,
            "max_height": null,
            "max_width": null,
            "min_height": null,
            "min_width": null,
            "object_fit": null,
            "object_position": null,
            "order": null,
            "overflow": null,
            "overflow_x": null,
            "overflow_y": null,
            "padding": null,
            "right": null,
            "top": null,
            "visibility": null,
            "width": null
          }
        },
        "1bcd80caa0fb4fc3973bea57c57521d7": {
          "model_module": "@jupyter-widgets/controls",
          "model_name": "ButtonStyleModel",
          "model_module_version": "1.5.0",
          "state": {
            "_model_module": "@jupyter-widgets/controls",
            "_model_module_version": "1.5.0",
            "_model_name": "ButtonStyleModel",
            "_view_count": null,
            "_view_module": "@jupyter-widgets/base",
            "_view_module_version": "1.2.0",
            "_view_name": "StyleView",
            "button_color": null,
            "font_weight": ""
          }
        },
        "0b2d4dee325146639a0a3337142f3367": {
          "model_module": "@jupyter-widgets/controls",
          "model_name": "DropdownModel",
          "model_module_version": "1.5.0",
          "state": {
            "_dom_classes": [],
            "_model_module": "@jupyter-widgets/controls",
            "_model_module_version": "1.5.0",
            "_model_name": "DropdownModel",
            "_options_labels": [
              "ISBN",
              "Book Title"
            ],
            "_view_count": null,
            "_view_module": "@jupyter-widgets/controls",
            "_view_module_version": "1.5.0",
            "_view_name": "DropdownView",
            "description": "",
            "description_tooltip": null,
            "disabled": false,
            "index": 0,
            "layout": "IPY_MODEL_a0889e301f13421ab0ab21b9aaa89c8c",
            "style": "IPY_MODEL_d215154957654b038d39544ddd7640c4"
          }
        },
        "a0889e301f13421ab0ab21b9aaa89c8c": {
          "model_module": "@jupyter-widgets/base",
          "model_name": "LayoutModel",
          "model_module_version": "1.2.0",
          "state": {
            "_model_module": "@jupyter-widgets/base",
            "_model_module_version": "1.2.0",
            "_model_name": "LayoutModel",
            "_view_count": null,
            "_view_module": "@jupyter-widgets/base",
            "_view_module_version": "1.2.0",
            "_view_name": "LayoutView",
            "align_content": null,
            "align_items": null,
            "align_self": null,
            "border": null,
            "bottom": null,
            "display": null,
            "flex": null,
            "flex_flow": null,
            "grid_area": null,
            "grid_auto_columns": null,
            "grid_auto_flow": null,
            "grid_auto_rows": null,
            "grid_column": null,
            "grid_gap": null,
            "grid_row": null,
            "grid_template_areas": null,
            "grid_template_columns": null,
            "grid_template_rows": null,
            "height": null,
            "justify_content": null,
            "justify_items": null,
            "left": null,
            "margin": null,
            "max_height": null,
            "max_width": null,
            "min_height": null,
            "min_width": null,
            "object_fit": null,
            "object_position": null,
            "order": null,
            "overflow": null,
            "overflow_x": null,
            "overflow_y": null,
            "padding": null,
            "right": null,
            "top": null,
            "visibility": null,
            "width": null
          }
        },
        "d215154957654b038d39544ddd7640c4": {
          "model_module": "@jupyter-widgets/controls",
          "model_name": "DescriptionStyleModel",
          "model_module_version": "1.5.0",
          "state": {
            "_model_module": "@jupyter-widgets/controls",
            "_model_module_version": "1.5.0",
            "_model_name": "DescriptionStyleModel",
            "_view_count": null,
            "_view_module": "@jupyter-widgets/base",
            "_view_module_version": "1.2.0",
            "_view_name": "StyleView",
            "description_width": ""
          }
        },
        "12d9e17c9e0b4b6e9e120c14d0c62a60": {
          "model_module": "@jupyter-widgets/controls",
          "model_name": "TextModel",
          "model_module_version": "1.5.0",
          "state": {
            "_dom_classes": [],
            "_model_module": "@jupyter-widgets/controls",
            "_model_module_version": "1.5.0",
            "_model_name": "TextModel",
            "_view_count": null,
            "_view_module": "@jupyter-widgets/controls",
            "_view_module_version": "1.5.0",
            "_view_name": "TextView",
            "continuous_update": true,
            "description": "Borrow:",
            "description_tooltip": null,
            "disabled": false,
            "layout": "IPY_MODEL_1350e1ad65864748ade2c4a64603bf98",
            "placeholder": "​",
            "style": "IPY_MODEL_c373ecb827e5491cbe200043fb951c91",
            "value": ""
          }
        },
        "1350e1ad65864748ade2c4a64603bf98": {
          "model_module": "@jupyter-widgets/base",
          "model_name": "LayoutModel",
          "model_module_version": "1.2.0",
          "state": {
            "_model_module": "@jupyter-widgets/base",
            "_model_module_version": "1.2.0",
            "_model_name": "LayoutModel",
            "_view_count": null,
            "_view_module": "@jupyter-widgets/base",
            "_view_module_version": "1.2.0",
            "_view_name": "LayoutView",
            "align_content": null,
            "align_items": null,
            "align_self": null,
            "border": null,
            "bottom": null,
            "display": null,
            "flex": null,
            "flex_flow": null,
            "grid_area": null,
            "grid_auto_columns": null,
            "grid_auto_flow": null,
            "grid_auto_rows": null,
            "grid_column": null,
            "grid_gap": null,
            "grid_row": null,
            "grid_template_areas": null,
            "grid_template_columns": null,
            "grid_template_rows": null,
            "height": null,
            "justify_content": null,
            "justify_items": null,
            "left": null,
            "margin": null,
            "max_height": null,
            "max_width": null,
            "min_height": null,
            "min_width": null,
            "object_fit": null,
            "object_position": null,
            "order": null,
            "overflow": null,
            "overflow_x": null,
            "overflow_y": null,
            "padding": null,
            "right": null,
            "top": null,
            "visibility": null,
            "width": null
          }
        },
        "c373ecb827e5491cbe200043fb951c91": {
          "model_module": "@jupyter-widgets/controls",
          "model_name": "DescriptionStyleModel",
          "model_module_version": "1.5.0",
          "state": {
            "_model_module": "@jupyter-widgets/controls",
            "_model_module_version": "1.5.0",
            "_model_name": "DescriptionStyleModel",
            "_view_count": null,
            "_view_module": "@jupyter-widgets/base",
            "_view_module_version": "1.2.0",
            "_view_name": "StyleView",
            "description_width": ""
          }
        },
        "dab73b6fc30b452995c464b50055ceca": {
          "model_module": "@jupyter-widgets/controls",
          "model_name": "ButtonModel",
          "model_module_version": "1.5.0",
          "state": {
            "_dom_classes": [],
            "_model_module": "@jupyter-widgets/controls",
            "_model_module_version": "1.5.0",
            "_model_name": "ButtonModel",
            "_view_count": null,
            "_view_module": "@jupyter-widgets/controls",
            "_view_module_version": "1.5.0",
            "_view_name": "ButtonView",
            "button_style": "",
            "description": "Borrow Book",
            "disabled": false,
            "icon": "",
            "layout": "IPY_MODEL_98aae7013f184ec6a5c1e95cb7011b2c",
            "style": "IPY_MODEL_37a4c5f2ddc743b2889efe2af19e1352",
            "tooltip": ""
          }
        },
        "98aae7013f184ec6a5c1e95cb7011b2c": {
          "model_module": "@jupyter-widgets/base",
          "model_name": "LayoutModel",
          "model_module_version": "1.2.0",
          "state": {
            "_model_module": "@jupyter-widgets/base",
            "_model_module_version": "1.2.0",
            "_model_name": "LayoutModel",
            "_view_count": null,
            "_view_module": "@jupyter-widgets/base",
            "_view_module_version": "1.2.0",
            "_view_name": "LayoutView",
            "align_content": null,
            "align_items": null,
            "align_self": null,
            "border": null,
            "bottom": null,
            "display": null,
            "flex": null,
            "flex_flow": null,
            "grid_area": null,
            "grid_auto_columns": null,
            "grid_auto_flow": null,
            "grid_auto_rows": null,
            "grid_column": null,
            "grid_gap": null,
            "grid_row": null,
            "grid_template_areas": null,
            "grid_template_columns": null,
            "grid_template_rows": null,
            "height": null,
            "justify_content": null,
            "justify_items": null,
            "left": null,
            "margin": null,
            "max_height": null,
            "max_width": null,
            "min_height": null,
            "min_width": null,
            "object_fit": null,
            "object_position": null,
            "order": null,
            "overflow": null,
            "overflow_x": null,
            "overflow_y": null,
            "padding": null,
            "right": null,
            "top": null,
            "visibility": null,
            "width": null
          }
        },
        "37a4c5f2ddc743b2889efe2af19e1352": {
          "model_module": "@jupyter-widgets/controls",
          "model_name": "ButtonStyleModel",
          "model_module_version": "1.5.0",
          "state": {
            "_model_module": "@jupyter-widgets/controls",
            "_model_module_version": "1.5.0",
            "_model_name": "ButtonStyleModel",
            "_view_count": null,
            "_view_module": "@jupyter-widgets/base",
            "_view_module_version": "1.2.0",
            "_view_name": "StyleView",
            "button_color": null,
            "font_weight": ""
          }
        },
        "f7780d4560504ea890e5be825d986987": {
          "model_module": "@jupyter-widgets/controls",
          "model_name": "ButtonModel",
          "model_module_version": "1.5.0",
          "state": {
            "_dom_classes": [],
            "_model_module": "@jupyter-widgets/controls",
            "_model_module_version": "1.5.0",
            "_model_name": "ButtonModel",
            "_view_count": null,
            "_view_module": "@jupyter-widgets/controls",
            "_view_module_version": "1.5.0",
            "_view_name": "ButtonView",
            "button_style": "",
            "description": "View All Books",
            "disabled": false,
            "icon": "",
            "layout": "IPY_MODEL_1feeffd3d418475fb848eb7418e409b8",
            "style": "IPY_MODEL_91f3eb5230c0425f92efb05b0d0fc31f",
            "tooltip": ""
          }
        },
        "1feeffd3d418475fb848eb7418e409b8": {
          "model_module": "@jupyter-widgets/base",
          "model_name": "LayoutModel",
          "model_module_version": "1.2.0",
          "state": {
            "_model_module": "@jupyter-widgets/base",
            "_model_module_version": "1.2.0",
            "_model_name": "LayoutModel",
            "_view_count": null,
            "_view_module": "@jupyter-widgets/base",
            "_view_module_version": "1.2.0",
            "_view_name": "LayoutView",
            "align_content": null,
            "align_items": null,
            "align_self": null,
            "border": null,
            "bottom": null,
            "display": null,
            "flex": null,
            "flex_flow": null,
            "grid_area": null,
            "grid_auto_columns": null,
            "grid_auto_flow": null,
            "grid_auto_rows": null,
            "grid_column": null,
            "grid_gap": null,
            "grid_row": null,
            "grid_template_areas": null,
            "grid_template_columns": null,
            "grid_template_rows": null,
            "height": null,
            "justify_content": null,
            "justify_items": null,
            "left": null,
            "margin": null,
            "max_height": null,
            "max_width": null,
            "min_height": null,
            "min_width": null,
            "object_fit": null,
            "object_position": null,
            "order": null,
            "overflow": null,
            "overflow_x": null,
            "overflow_y": null,
            "padding": null,
            "right": null,
            "top": null,
            "visibility": null,
            "width": null
          }
        },
        "91f3eb5230c0425f92efb05b0d0fc31f": {
          "model_module": "@jupyter-widgets/controls",
          "model_name": "ButtonStyleModel",
          "model_module_version": "1.5.0",
          "state": {
            "_model_module": "@jupyter-widgets/controls",
            "_model_module_version": "1.5.0",
            "_model_name": "ButtonStyleModel",
            "_view_count": null,
            "_view_module": "@jupyter-widgets/base",
            "_view_module_version": "1.2.0",
            "_view_name": "StyleView",
            "button_color": null,
            "font_weight": ""
          }
        },
        "6781b0407ac34db7b1020e2be131110f": {
          "model_module": "@jupyter-widgets/output",
          "model_name": "OutputModel",
          "model_module_version": "1.0.0",
          "state": {
            "_dom_classes": [],
            "_model_module": "@jupyter-widgets/output",
            "_model_module_version": "1.0.0",
            "_model_name": "OutputModel",
            "_view_count": null,
            "_view_module": "@jupyter-widgets/output",
            "_view_module_version": "1.0.0",
            "_view_name": "OutputView",
            "layout": "IPY_MODEL_4e2dc09c52544a3eaef70d607d2ec84a",
            "msg_id": "",
            "outputs": []
          }
        },
        "4e2dc09c52544a3eaef70d607d2ec84a": {
          "model_module": "@jupyter-widgets/base",
          "model_name": "LayoutModel",
          "model_module_version": "1.2.0",
          "state": {
            "_model_module": "@jupyter-widgets/base",
            "_model_module_version": "1.2.0",
            "_model_name": "LayoutModel",
            "_view_count": null,
            "_view_module": "@jupyter-widgets/base",
            "_view_module_version": "1.2.0",
            "_view_name": "LayoutView",
            "align_content": null,
            "align_items": null,
            "align_self": null,
            "border": null,
            "bottom": null,
            "display": null,
            "flex": null,
            "flex_flow": null,
            "grid_area": null,
            "grid_auto_columns": null,
            "grid_auto_flow": null,
            "grid_auto_rows": null,
            "grid_column": null,
            "grid_gap": null,
            "grid_row": null,
            "grid_template_areas": null,
            "grid_template_columns": null,
            "grid_template_rows": null,
            "height": null,
            "justify_content": null,
            "justify_items": null,
            "left": null,
            "margin": null,
            "max_height": null,
            "max_width": null,
            "min_height": null,
            "min_width": null,
            "object_fit": null,
            "object_position": null,
            "order": null,
            "overflow": null,
            "overflow_x": null,
            "overflow_y": null,
            "padding": null,
            "right": null,
            "top": null,
            "visibility": null,
            "width": null
          }
        },
        "754cdbfbd518439597828199cd7322f3": {
          "model_module": "@jupyter-widgets/controls",
          "model_name": "TextModel",
          "model_module_version": "1.5.0",
          "state": {
            "_dom_classes": [],
            "_model_module": "@jupyter-widgets/controls",
            "_model_module_version": "1.5.0",
            "_model_name": "TextModel",
            "_view_count": null,
            "_view_module": "@jupyter-widgets/controls",
            "_view_module_version": "1.5.0",
            "_view_name": "TextView",
            "continuous_update": true,
            "description": "Username",
            "description_tooltip": null,
            "disabled": false,
            "layout": "IPY_MODEL_86e26b2352794aac8d59951c34bfb11f",
            "placeholder": "​",
            "style": "IPY_MODEL_8eab4028aa894f26a1405473bd2aa03f",
            "value": ""
          }
        },
        "86e26b2352794aac8d59951c34bfb11f": {
          "model_module": "@jupyter-widgets/base",
          "model_name": "LayoutModel",
          "model_module_version": "1.2.0",
          "state": {
            "_model_module": "@jupyter-widgets/base",
            "_model_module_version": "1.2.0",
            "_model_name": "LayoutModel",
            "_view_count": null,
            "_view_module": "@jupyter-widgets/base",
            "_view_module_version": "1.2.0",
            "_view_name": "LayoutView",
            "align_content": null,
            "align_items": null,
            "align_self": null,
            "border": null,
            "bottom": null,
            "display": null,
            "flex": null,
            "flex_flow": null,
            "grid_area": null,
            "grid_auto_columns": null,
            "grid_auto_flow": null,
            "grid_auto_rows": null,
            "grid_column": null,
            "grid_gap": null,
            "grid_row": null,
            "grid_template_areas": null,
            "grid_template_columns": null,
            "grid_template_rows": null,
            "height": null,
            "justify_content": null,
            "justify_items": null,
            "left": null,
            "margin": null,
            "max_height": null,
            "max_width": null,
            "min_height": null,
            "min_width": null,
            "object_fit": null,
            "object_position": null,
            "order": null,
            "overflow": null,
            "overflow_x": null,
            "overflow_y": null,
            "padding": null,
            "right": null,
            "top": null,
            "visibility": null,
            "width": null
          }
        },
        "8eab4028aa894f26a1405473bd2aa03f": {
          "model_module": "@jupyter-widgets/controls",
          "model_name": "DescriptionStyleModel",
          "model_module_version": "1.5.0",
          "state": {
            "_model_module": "@jupyter-widgets/controls",
            "_model_module_version": "1.5.0",
            "_model_name": "DescriptionStyleModel",
            "_view_count": null,
            "_view_module": "@jupyter-widgets/base",
            "_view_module_version": "1.2.0",
            "_view_name": "StyleView",
            "description_width": ""
          }
        },
        "157d0da4319a4a08b151b185450c35c3": {
          "model_module": "@jupyter-widgets/controls",
          "model_name": "TextModel",
          "model_module_version": "1.5.0",
          "state": {
            "_dom_classes": [],
            "_model_module": "@jupyter-widgets/controls",
            "_model_module_version": "1.5.0",
            "_model_name": "TextModel",
            "_view_count": null,
            "_view_module": "@jupyter-widgets/controls",
            "_view_module_version": "1.5.0",
            "_view_name": "TextView",
            "continuous_update": true,
            "description": "Email",
            "description_tooltip": null,
            "disabled": false,
            "layout": "IPY_MODEL_46a9b4fd14394f9c88946e77aaed404d",
            "placeholder": "​",
            "style": "IPY_MODEL_ce217351beaa4ded9808ba3f9918da6a",
            "value": ""
          }
        },
        "46a9b4fd14394f9c88946e77aaed404d": {
          "model_module": "@jupyter-widgets/base",
          "model_name": "LayoutModel",
          "model_module_version": "1.2.0",
          "state": {
            "_model_module": "@jupyter-widgets/base",
            "_model_module_version": "1.2.0",
            "_model_name": "LayoutModel",
            "_view_count": null,
            "_view_module": "@jupyter-widgets/base",
            "_view_module_version": "1.2.0",
            "_view_name": "LayoutView",
            "align_content": null,
            "align_items": null,
            "align_self": null,
            "border": null,
            "bottom": null,
            "display": null,
            "flex": null,
            "flex_flow": null,
            "grid_area": null,
            "grid_auto_columns": null,
            "grid_auto_flow": null,
            "grid_auto_rows": null,
            "grid_column": null,
            "grid_gap": null,
            "grid_row": null,
            "grid_template_areas": null,
            "grid_template_columns": null,
            "grid_template_rows": null,
            "height": null,
            "justify_content": null,
            "justify_items": null,
            "left": null,
            "margin": null,
            "max_height": null,
            "max_width": null,
            "min_height": null,
            "min_width": null,
            "object_fit": null,
            "object_position": null,
            "order": null,
            "overflow": null,
            "overflow_x": null,
            "overflow_y": null,
            "padding": null,
            "right": null,
            "top": null,
            "visibility": null,
            "width": null
          }
        },
        "ce217351beaa4ded9808ba3f9918da6a": {
          "model_module": "@jupyter-widgets/controls",
          "model_name": "DescriptionStyleModel",
          "model_module_version": "1.5.0",
          "state": {
            "_model_module": "@jupyter-widgets/controls",
            "_model_module_version": "1.5.0",
            "_model_name": "DescriptionStyleModel",
            "_view_count": null,
            "_view_module": "@jupyter-widgets/base",
            "_view_module_version": "1.2.0",
            "_view_name": "StyleView",
            "description_width": ""
          }
        },
        "aef6c93277854e80912b4a543bab2260": {
          "model_module": "@jupyter-widgets/controls",
          "model_name": "ButtonModel",
          "model_module_version": "1.5.0",
          "state": {
            "_dom_classes": [],
            "_model_module": "@jupyter-widgets/controls",
            "_model_module_version": "1.5.0",
            "_model_name": "ButtonModel",
            "_view_count": null,
            "_view_module": "@jupyter-widgets/controls",
            "_view_module_version": "1.5.0",
            "_view_name": "ButtonView",
            "button_style": "",
            "description": "Login",
            "disabled": false,
            "icon": "",
            "layout": "IPY_MODEL_c89494cbc5ce473cb51efe7afaaa0cf9",
            "style": "IPY_MODEL_da594f8e37cd4e99b021dc0e73e98e40",
            "tooltip": ""
          }
        },
        "c89494cbc5ce473cb51efe7afaaa0cf9": {
          "model_module": "@jupyter-widgets/base",
          "model_name": "LayoutModel",
          "model_module_version": "1.2.0",
          "state": {
            "_model_module": "@jupyter-widgets/base",
            "_model_module_version": "1.2.0",
            "_model_name": "LayoutModel",
            "_view_count": null,
            "_view_module": "@jupyter-widgets/base",
            "_view_module_version": "1.2.0",
            "_view_name": "LayoutView",
            "align_content": null,
            "align_items": null,
            "align_self": null,
            "border": null,
            "bottom": null,
            "display": null,
            "flex": null,
            "flex_flow": null,
            "grid_area": null,
            "grid_auto_columns": null,
            "grid_auto_flow": null,
            "grid_auto_rows": null,
            "grid_column": null,
            "grid_gap": null,
            "grid_row": null,
            "grid_template_areas": null,
            "grid_template_columns": null,
            "grid_template_rows": null,
            "height": null,
            "justify_content": null,
            "justify_items": null,
            "left": null,
            "margin": null,
            "max_height": null,
            "max_width": null,
            "min_height": null,
            "min_width": null,
            "object_fit": null,
            "object_position": null,
            "order": null,
            "overflow": null,
            "overflow_x": null,
            "overflow_y": null,
            "padding": null,
            "right": null,
            "top": null,
            "visibility": null,
            "width": null
          }
        },
        "da594f8e37cd4e99b021dc0e73e98e40": {
          "model_module": "@jupyter-widgets/controls",
          "model_name": "ButtonStyleModel",
          "model_module_version": "1.5.0",
          "state": {
            "_model_module": "@jupyter-widgets/controls",
            "_model_module_version": "1.5.0",
            "_model_name": "ButtonStyleModel",
            "_view_count": null,
            "_view_module": "@jupyter-widgets/base",
            "_view_module_version": "1.2.0",
            "_view_name": "StyleView",
            "button_color": null,
            "font_weight": ""
          }
        },
        "0bfe5c7a18494dda93cbe92e5a072f46": {
          "model_module": "@jupyter-widgets/output",
          "model_name": "OutputModel",
          "model_module_version": "1.0.0",
          "state": {
            "_dom_classes": [],
            "_model_module": "@jupyter-widgets/output",
            "_model_module_version": "1.0.0",
            "_model_name": "OutputModel",
            "_view_count": null,
            "_view_module": "@jupyter-widgets/output",
            "_view_module_version": "1.0.0",
            "_view_name": "OutputView",
            "layout": "IPY_MODEL_c1484adc44044f1c95b753c7b7c74b4b",
            "msg_id": "",
            "outputs": []
          }
        },
        "c1484adc44044f1c95b753c7b7c74b4b": {
          "model_module": "@jupyter-widgets/base",
          "model_name": "LayoutModel",
          "model_module_version": "1.2.0",
          "state": {
            "_model_module": "@jupyter-widgets/base",
            "_model_module_version": "1.2.0",
            "_model_name": "LayoutModel",
            "_view_count": null,
            "_view_module": "@jupyter-widgets/base",
            "_view_module_version": "1.2.0",
            "_view_name": "LayoutView",
            "align_content": null,
            "align_items": null,
            "align_self": null,
            "border": null,
            "bottom": null,
            "display": null,
            "flex": null,
            "flex_flow": null,
            "grid_area": null,
            "grid_auto_columns": null,
            "grid_auto_flow": null,
            "grid_auto_rows": null,
            "grid_column": null,
            "grid_gap": null,
            "grid_row": null,
            "grid_template_areas": null,
            "grid_template_columns": null,
            "grid_template_rows": null,
            "height": null,
            "justify_content": null,
            "justify_items": null,
            "left": null,
            "margin": null,
            "max_height": null,
            "max_width": null,
            "min_height": null,
            "min_width": null,
            "object_fit": null,
            "object_position": null,
            "order": null,
            "overflow": null,
            "overflow_x": null,
            "overflow_y": null,
            "padding": null,
            "right": null,
            "top": null,
            "visibility": null,
            "width": null
          }
        }
      }
    }
  },
  "nbformat": 4,
  "nbformat_minor": 0
}